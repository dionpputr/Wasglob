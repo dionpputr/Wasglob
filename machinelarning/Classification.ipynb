{
 "cells": [
  {
   "cell_type": "code",
   "execution_count": 1,
   "metadata": {
    "id": "nOnUHLlLbK49"
   },
   "outputs": [],
   "source": [
    "import csv\n",
    "import random\n",
    "import math\n",
    "import pandas as pd\n",
    "import numpy as np \n",
    "import matplotlib.pyplot as plt \n",
    "import seaborn as sns\n",
    "from sklearn.preprocessing import LabelEncoder\n",
    "from sklearn.decomposition import PCA\n"
   ]
  },
  {
   "cell_type": "markdown",
   "metadata": {
    "id": "bQo3gZr54G-8"
   },
   "source": [
    "<h1>SUPERVISED LEARNING (CLASSIFICATION)</h1>\n",
    "Task : Mengklasifikasi dataset (kendaraan).\n",
    "\n",
    "Langkah pertama yaitu meng-<i>input</i> dataset (kendaraaan_train.csv)"
   ]
  },
  {
   "cell_type": "code",
   "execution_count": 2,
   "metadata": {
    "colab": {
     "base_uri": "https://localhost:8080/",
     "height": 221
    },
    "id": "mDVSdRYEbV26",
    "outputId": "8ecf342f-f4d8-4d69-e855-596cd3c1901d"
   },
   "outputs": [
    {
     "data": {
      "text/html": [
       "<div>\n",
       "<style scoped>\n",
       "    .dataframe tbody tr th:only-of-type {\n",
       "        vertical-align: middle;\n",
       "    }\n",
       "\n",
       "    .dataframe tbody tr th {\n",
       "        vertical-align: top;\n",
       "    }\n",
       "\n",
       "    .dataframe thead th {\n",
       "        text-align: right;\n",
       "    }\n",
       "</style>\n",
       "<table border=\"1\" class=\"dataframe\">\n",
       "  <thead>\n",
       "    <tr style=\"text-align: right;\">\n",
       "      <th></th>\n",
       "      <th>id</th>\n",
       "      <th>Jenis_Kelamin</th>\n",
       "      <th>Umur</th>\n",
       "      <th>SIM</th>\n",
       "      <th>Kode_Daerah</th>\n",
       "      <th>Sudah_Asuransi</th>\n",
       "      <th>Umur_Kendaraan</th>\n",
       "      <th>Kendaraan_Rusak</th>\n",
       "      <th>Premi</th>\n",
       "      <th>Kanal_Penjualan</th>\n",
       "      <th>Lama_Berlangganan</th>\n",
       "      <th>Tertarik</th>\n",
       "    </tr>\n",
       "  </thead>\n",
       "  <tbody>\n",
       "    <tr>\n",
       "      <th>0</th>\n",
       "      <td>1</td>\n",
       "      <td>Wanita</td>\n",
       "      <td>30.0</td>\n",
       "      <td>1.0</td>\n",
       "      <td>33.0</td>\n",
       "      <td>1.0</td>\n",
       "      <td>&lt; 1 Tahun</td>\n",
       "      <td>Tidak</td>\n",
       "      <td>28029.0</td>\n",
       "      <td>152.0</td>\n",
       "      <td>97.0</td>\n",
       "      <td>0</td>\n",
       "    </tr>\n",
       "    <tr>\n",
       "      <th>1</th>\n",
       "      <td>2</td>\n",
       "      <td>Pria</td>\n",
       "      <td>48.0</td>\n",
       "      <td>1.0</td>\n",
       "      <td>39.0</td>\n",
       "      <td>0.0</td>\n",
       "      <td>&gt; 2 Tahun</td>\n",
       "      <td>Pernah</td>\n",
       "      <td>25800.0</td>\n",
       "      <td>29.0</td>\n",
       "      <td>158.0</td>\n",
       "      <td>0</td>\n",
       "    </tr>\n",
       "    <tr>\n",
       "      <th>2</th>\n",
       "      <td>3</td>\n",
       "      <td>NaN</td>\n",
       "      <td>21.0</td>\n",
       "      <td>1.0</td>\n",
       "      <td>46.0</td>\n",
       "      <td>1.0</td>\n",
       "      <td>&lt; 1 Tahun</td>\n",
       "      <td>Tidak</td>\n",
       "      <td>32733.0</td>\n",
       "      <td>160.0</td>\n",
       "      <td>119.0</td>\n",
       "      <td>0</td>\n",
       "    </tr>\n",
       "    <tr>\n",
       "      <th>3</th>\n",
       "      <td>4</td>\n",
       "      <td>Wanita</td>\n",
       "      <td>58.0</td>\n",
       "      <td>1.0</td>\n",
       "      <td>48.0</td>\n",
       "      <td>0.0</td>\n",
       "      <td>1-2 Tahun</td>\n",
       "      <td>Tidak</td>\n",
       "      <td>2630.0</td>\n",
       "      <td>124.0</td>\n",
       "      <td>63.0</td>\n",
       "      <td>0</td>\n",
       "    </tr>\n",
       "    <tr>\n",
       "      <th>4</th>\n",
       "      <td>5</td>\n",
       "      <td>Pria</td>\n",
       "      <td>50.0</td>\n",
       "      <td>1.0</td>\n",
       "      <td>35.0</td>\n",
       "      <td>0.0</td>\n",
       "      <td>&gt; 2 Tahun</td>\n",
       "      <td>NaN</td>\n",
       "      <td>34857.0</td>\n",
       "      <td>88.0</td>\n",
       "      <td>194.0</td>\n",
       "      <td>0</td>\n",
       "    </tr>\n",
       "  </tbody>\n",
       "</table>\n",
       "</div>"
      ],
      "text/plain": [
       "   id Jenis_Kelamin  Umur  SIM  Kode_Daerah  Sudah_Asuransi Umur_Kendaraan  \\\n",
       "0   1        Wanita  30.0  1.0         33.0             1.0      < 1 Tahun   \n",
       "1   2          Pria  48.0  1.0         39.0             0.0      > 2 Tahun   \n",
       "2   3           NaN  21.0  1.0         46.0             1.0      < 1 Tahun   \n",
       "3   4        Wanita  58.0  1.0         48.0             0.0      1-2 Tahun   \n",
       "4   5          Pria  50.0  1.0         35.0             0.0      > 2 Tahun   \n",
       "\n",
       "  Kendaraan_Rusak    Premi  Kanal_Penjualan  Lama_Berlangganan  Tertarik  \n",
       "0           Tidak  28029.0            152.0               97.0         0  \n",
       "1          Pernah  25800.0             29.0              158.0         0  \n",
       "2           Tidak  32733.0            160.0              119.0         0  \n",
       "3           Tidak   2630.0            124.0               63.0         0  \n",
       "4             NaN  34857.0             88.0              194.0         0  "
      ]
     },
     "execution_count": 2,
     "metadata": {},
     "output_type": "execute_result"
    }
   ],
   "source": [
    "dataset = pd.read_csv('kendaraan_train.csv')\n",
    "dataset.head()"
   ]
  },
  {
   "cell_type": "markdown",
   "metadata": {
    "id": "iIKhLqNu4jB6"
   },
   "source": [
    "Periksa dataset apakah terdapat data NaN/Null/Kosong pada setiap rownya"
   ]
  },
  {
   "cell_type": "code",
   "execution_count": 3,
   "metadata": {
    "colab": {
     "base_uri": "https://localhost:8080/"
    },
    "id": "r9m4uh8a4aKg",
    "outputId": "c3b3372c-246c-49f5-bfac-20a142d4e47f"
   },
   "outputs": [
    {
     "data": {
      "text/plain": [
       "True"
      ]
     },
     "execution_count": 3,
     "metadata": {},
     "output_type": "execute_result"
    }
   ],
   "source": [
    "dataset.isnull().values.any()"
   ]
  },
  {
   "cell_type": "markdown",
   "metadata": {
    "id": "-FLW11JI4jz5"
   },
   "source": [
    "Karena terdapat data NaN pada dataset, maka data yang memiliki value NaN akan di-drop"
   ]
  },
  {
   "cell_type": "code",
   "execution_count": 4,
   "metadata": {
    "id": "WDW4INcubYcw"
   },
   "outputs": [],
   "source": [
    "dataset = dataset.dropna()"
   ]
  },
  {
   "cell_type": "code",
   "execution_count": 5,
   "metadata": {
    "colab": {
     "base_uri": "https://localhost:8080/",
     "height": 221
    },
    "id": "Lz6KGwpObapJ",
    "outputId": "428b61a4-3d31-4111-aa06-da3413a97a55"
   },
   "outputs": [
    {
     "data": {
      "text/html": [
       "<div>\n",
       "<style scoped>\n",
       "    .dataframe tbody tr th:only-of-type {\n",
       "        vertical-align: middle;\n",
       "    }\n",
       "\n",
       "    .dataframe tbody tr th {\n",
       "        vertical-align: top;\n",
       "    }\n",
       "\n",
       "    .dataframe thead th {\n",
       "        text-align: right;\n",
       "    }\n",
       "</style>\n",
       "<table border=\"1\" class=\"dataframe\">\n",
       "  <thead>\n",
       "    <tr style=\"text-align: right;\">\n",
       "      <th></th>\n",
       "      <th>id</th>\n",
       "      <th>Jenis_Kelamin</th>\n",
       "      <th>Umur</th>\n",
       "      <th>SIM</th>\n",
       "      <th>Kode_Daerah</th>\n",
       "      <th>Sudah_Asuransi</th>\n",
       "      <th>Umur_Kendaraan</th>\n",
       "      <th>Kendaraan_Rusak</th>\n",
       "      <th>Premi</th>\n",
       "      <th>Kanal_Penjualan</th>\n",
       "      <th>Lama_Berlangganan</th>\n",
       "      <th>Tertarik</th>\n",
       "    </tr>\n",
       "  </thead>\n",
       "  <tbody>\n",
       "    <tr>\n",
       "      <th>0</th>\n",
       "      <td>1</td>\n",
       "      <td>Wanita</td>\n",
       "      <td>30.0</td>\n",
       "      <td>1.0</td>\n",
       "      <td>33.0</td>\n",
       "      <td>1.0</td>\n",
       "      <td>&lt; 1 Tahun</td>\n",
       "      <td>Tidak</td>\n",
       "      <td>28029.0</td>\n",
       "      <td>152.0</td>\n",
       "      <td>97.0</td>\n",
       "      <td>0</td>\n",
       "    </tr>\n",
       "    <tr>\n",
       "      <th>1</th>\n",
       "      <td>2</td>\n",
       "      <td>Pria</td>\n",
       "      <td>48.0</td>\n",
       "      <td>1.0</td>\n",
       "      <td>39.0</td>\n",
       "      <td>0.0</td>\n",
       "      <td>&gt; 2 Tahun</td>\n",
       "      <td>Pernah</td>\n",
       "      <td>25800.0</td>\n",
       "      <td>29.0</td>\n",
       "      <td>158.0</td>\n",
       "      <td>0</td>\n",
       "    </tr>\n",
       "    <tr>\n",
       "      <th>3</th>\n",
       "      <td>4</td>\n",
       "      <td>Wanita</td>\n",
       "      <td>58.0</td>\n",
       "      <td>1.0</td>\n",
       "      <td>48.0</td>\n",
       "      <td>0.0</td>\n",
       "      <td>1-2 Tahun</td>\n",
       "      <td>Tidak</td>\n",
       "      <td>2630.0</td>\n",
       "      <td>124.0</td>\n",
       "      <td>63.0</td>\n",
       "      <td>0</td>\n",
       "    </tr>\n",
       "    <tr>\n",
       "      <th>5</th>\n",
       "      <td>6</td>\n",
       "      <td>Pria</td>\n",
       "      <td>21.0</td>\n",
       "      <td>1.0</td>\n",
       "      <td>35.0</td>\n",
       "      <td>1.0</td>\n",
       "      <td>&lt; 1 Tahun</td>\n",
       "      <td>Tidak</td>\n",
       "      <td>22735.0</td>\n",
       "      <td>152.0</td>\n",
       "      <td>171.0</td>\n",
       "      <td>0</td>\n",
       "    </tr>\n",
       "    <tr>\n",
       "      <th>8</th>\n",
       "      <td>9</td>\n",
       "      <td>Wanita</td>\n",
       "      <td>20.0</td>\n",
       "      <td>1.0</td>\n",
       "      <td>8.0</td>\n",
       "      <td>1.0</td>\n",
       "      <td>&lt; 1 Tahun</td>\n",
       "      <td>Tidak</td>\n",
       "      <td>30786.0</td>\n",
       "      <td>160.0</td>\n",
       "      <td>31.0</td>\n",
       "      <td>0</td>\n",
       "    </tr>\n",
       "  </tbody>\n",
       "</table>\n",
       "</div>"
      ],
      "text/plain": [
       "   id Jenis_Kelamin  Umur  SIM  Kode_Daerah  Sudah_Asuransi Umur_Kendaraan  \\\n",
       "0   1        Wanita  30.0  1.0         33.0             1.0      < 1 Tahun   \n",
       "1   2          Pria  48.0  1.0         39.0             0.0      > 2 Tahun   \n",
       "3   4        Wanita  58.0  1.0         48.0             0.0      1-2 Tahun   \n",
       "5   6          Pria  21.0  1.0         35.0             1.0      < 1 Tahun   \n",
       "8   9        Wanita  20.0  1.0          8.0             1.0      < 1 Tahun   \n",
       "\n",
       "  Kendaraan_Rusak    Premi  Kanal_Penjualan  Lama_Berlangganan  Tertarik  \n",
       "0           Tidak  28029.0            152.0               97.0         0  \n",
       "1          Pernah  25800.0             29.0              158.0         0  \n",
       "3           Tidak   2630.0            124.0               63.0         0  \n",
       "5           Tidak  22735.0            152.0              171.0         0  \n",
       "8           Tidak  30786.0            160.0               31.0         0  "
      ]
     },
     "execution_count": 5,
     "metadata": {},
     "output_type": "execute_result"
    }
   ],
   "source": [
    "dataset.head()"
   ]
  },
  {
   "cell_type": "code",
   "execution_count": 6,
   "metadata": {
    "colab": {
     "base_uri": "https://localhost:8080/"
    },
    "id": "9IRXKx4ubciy",
    "outputId": "7f63a577-51d8-4cc4-e492-33ca1db82d50"
   },
   "outputs": [
    {
     "data": {
      "text/plain": [
       "id                     int64\n",
       "Jenis_Kelamin         object\n",
       "Umur                 float64\n",
       "SIM                  float64\n",
       "Kode_Daerah          float64\n",
       "Sudah_Asuransi       float64\n",
       "Umur_Kendaraan        object\n",
       "Kendaraan_Rusak       object\n",
       "Premi                float64\n",
       "Kanal_Penjualan      float64\n",
       "Lama_Berlangganan    float64\n",
       "Tertarik               int64\n",
       "dtype: object"
      ]
     },
     "execution_count": 6,
     "metadata": {},
     "output_type": "execute_result"
    }
   ],
   "source": [
    "dataset.dtypes"
   ]
  },
  {
   "cell_type": "markdown",
   "metadata": {
    "id": "k0H0GxaXBnHn"
   },
   "source": [
    "<h3>PREPROCESS</h3>"
   ]
  },
  {
   "cell_type": "markdown",
   "metadata": {
    "id": "AI-1eGgu4mbi"
   },
   "source": [
    "Karena tipe data Jenis_Kelamin, Umur_Kendaraan, dan Kendaraan_Rusak bertipe kategorikal, maka kolom-kolom tersebut dirubah ke tipe numerikal hal ini dilakukan agar setiap rownya bisa dihitung jaraknya terhadap centroid seperti yang ada pada algoritma k-nn\n",
    "\n",
    "Merubah tipe data ini menggunakan fungsi LabelEncoder yang ada pada library sklearn"
   ]
  },
  {
   "cell_type": "code",
   "execution_count": 7,
   "metadata": {
    "id": "4ZOwZoUAbebK"
   },
   "outputs": [],
   "source": [
    "dataset['Jenis_Kelamin'] = LabelEncoder().fit_transform(dataset['Jenis_Kelamin'])\n",
    "dataset['Umur_Kendaraan'] = LabelEncoder().fit_transform(dataset['Umur_Kendaraan'])\n",
    "dataset['Kendaraan_Rusak'] = LabelEncoder().fit_transform(dataset['Kendaraan_Rusak'])"
   ]
  },
  {
   "cell_type": "code",
   "execution_count": 8,
   "metadata": {
    "colab": {
     "base_uri": "https://localhost:8080/",
     "height": 221
    },
    "id": "svBX0xl3bhAx",
    "outputId": "5140d55a-6592-42b0-ed13-8304466b755b"
   },
   "outputs": [
    {
     "data": {
      "text/html": [
       "<div>\n",
       "<style scoped>\n",
       "    .dataframe tbody tr th:only-of-type {\n",
       "        vertical-align: middle;\n",
       "    }\n",
       "\n",
       "    .dataframe tbody tr th {\n",
       "        vertical-align: top;\n",
       "    }\n",
       "\n",
       "    .dataframe thead th {\n",
       "        text-align: right;\n",
       "    }\n",
       "</style>\n",
       "<table border=\"1\" class=\"dataframe\">\n",
       "  <thead>\n",
       "    <tr style=\"text-align: right;\">\n",
       "      <th></th>\n",
       "      <th>id</th>\n",
       "      <th>Jenis_Kelamin</th>\n",
       "      <th>Umur</th>\n",
       "      <th>SIM</th>\n",
       "      <th>Kode_Daerah</th>\n",
       "      <th>Sudah_Asuransi</th>\n",
       "      <th>Umur_Kendaraan</th>\n",
       "      <th>Kendaraan_Rusak</th>\n",
       "      <th>Premi</th>\n",
       "      <th>Kanal_Penjualan</th>\n",
       "      <th>Lama_Berlangganan</th>\n",
       "      <th>Tertarik</th>\n",
       "    </tr>\n",
       "  </thead>\n",
       "  <tbody>\n",
       "    <tr>\n",
       "      <th>0</th>\n",
       "      <td>1</td>\n",
       "      <td>1</td>\n",
       "      <td>30.0</td>\n",
       "      <td>1.0</td>\n",
       "      <td>33.0</td>\n",
       "      <td>1.0</td>\n",
       "      <td>1</td>\n",
       "      <td>1</td>\n",
       "      <td>28029.0</td>\n",
       "      <td>152.0</td>\n",
       "      <td>97.0</td>\n",
       "      <td>0</td>\n",
       "    </tr>\n",
       "    <tr>\n",
       "      <th>1</th>\n",
       "      <td>2</td>\n",
       "      <td>0</td>\n",
       "      <td>48.0</td>\n",
       "      <td>1.0</td>\n",
       "      <td>39.0</td>\n",
       "      <td>0.0</td>\n",
       "      <td>2</td>\n",
       "      <td>0</td>\n",
       "      <td>25800.0</td>\n",
       "      <td>29.0</td>\n",
       "      <td>158.0</td>\n",
       "      <td>0</td>\n",
       "    </tr>\n",
       "    <tr>\n",
       "      <th>3</th>\n",
       "      <td>4</td>\n",
       "      <td>1</td>\n",
       "      <td>58.0</td>\n",
       "      <td>1.0</td>\n",
       "      <td>48.0</td>\n",
       "      <td>0.0</td>\n",
       "      <td>0</td>\n",
       "      <td>1</td>\n",
       "      <td>2630.0</td>\n",
       "      <td>124.0</td>\n",
       "      <td>63.0</td>\n",
       "      <td>0</td>\n",
       "    </tr>\n",
       "    <tr>\n",
       "      <th>5</th>\n",
       "      <td>6</td>\n",
       "      <td>0</td>\n",
       "      <td>21.0</td>\n",
       "      <td>1.0</td>\n",
       "      <td>35.0</td>\n",
       "      <td>1.0</td>\n",
       "      <td>1</td>\n",
       "      <td>1</td>\n",
       "      <td>22735.0</td>\n",
       "      <td>152.0</td>\n",
       "      <td>171.0</td>\n",
       "      <td>0</td>\n",
       "    </tr>\n",
       "    <tr>\n",
       "      <th>8</th>\n",
       "      <td>9</td>\n",
       "      <td>1</td>\n",
       "      <td>20.0</td>\n",
       "      <td>1.0</td>\n",
       "      <td>8.0</td>\n",
       "      <td>1.0</td>\n",
       "      <td>1</td>\n",
       "      <td>1</td>\n",
       "      <td>30786.0</td>\n",
       "      <td>160.0</td>\n",
       "      <td>31.0</td>\n",
       "      <td>0</td>\n",
       "    </tr>\n",
       "  </tbody>\n",
       "</table>\n",
       "</div>"
      ],
      "text/plain": [
       "   id  Jenis_Kelamin  Umur  SIM  Kode_Daerah  Sudah_Asuransi  Umur_Kendaraan  \\\n",
       "0   1              1  30.0  1.0         33.0             1.0               1   \n",
       "1   2              0  48.0  1.0         39.0             0.0               2   \n",
       "3   4              1  58.0  1.0         48.0             0.0               0   \n",
       "5   6              0  21.0  1.0         35.0             1.0               1   \n",
       "8   9              1  20.0  1.0          8.0             1.0               1   \n",
       "\n",
       "   Kendaraan_Rusak    Premi  Kanal_Penjualan  Lama_Berlangganan  Tertarik  \n",
       "0                1  28029.0            152.0               97.0         0  \n",
       "1                0  25800.0             29.0              158.0         0  \n",
       "3                1   2630.0            124.0               63.0         0  \n",
       "5                1  22735.0            152.0              171.0         0  \n",
       "8                1  30786.0            160.0               31.0         0  "
      ]
     },
     "execution_count": 8,
     "metadata": {},
     "output_type": "execute_result"
    }
   ],
   "source": [
    "dataset.head()"
   ]
  },
  {
   "cell_type": "markdown",
   "metadata": {
    "id": "wUfN1B8I4plQ"
   },
   "source": [
    "Kolom id tidak digunakan, maka akan di-drop"
   ]
  },
  {
   "cell_type": "code",
   "execution_count": 9,
   "metadata": {
    "id": "YIviFYzgbjQw"
   },
   "outputs": [],
   "source": [
    "dataset = dataset.drop(['id'], axis=1)"
   ]
  },
  {
   "cell_type": "code",
   "execution_count": 10,
   "metadata": {
    "colab": {
     "base_uri": "https://localhost:8080/",
     "height": 221
    },
    "id": "qR6OGB7qemu3",
    "outputId": "704e8265-29fe-49d4-9237-0455990cbe90"
   },
   "outputs": [
    {
     "data": {
      "text/html": [
       "<div>\n",
       "<style scoped>\n",
       "    .dataframe tbody tr th:only-of-type {\n",
       "        vertical-align: middle;\n",
       "    }\n",
       "\n",
       "    .dataframe tbody tr th {\n",
       "        vertical-align: top;\n",
       "    }\n",
       "\n",
       "    .dataframe thead th {\n",
       "        text-align: right;\n",
       "    }\n",
       "</style>\n",
       "<table border=\"1\" class=\"dataframe\">\n",
       "  <thead>\n",
       "    <tr style=\"text-align: right;\">\n",
       "      <th></th>\n",
       "      <th>Jenis_Kelamin</th>\n",
       "      <th>Umur</th>\n",
       "      <th>SIM</th>\n",
       "      <th>Kode_Daerah</th>\n",
       "      <th>Sudah_Asuransi</th>\n",
       "      <th>Umur_Kendaraan</th>\n",
       "      <th>Kendaraan_Rusak</th>\n",
       "      <th>Premi</th>\n",
       "      <th>Kanal_Penjualan</th>\n",
       "      <th>Lama_Berlangganan</th>\n",
       "      <th>Tertarik</th>\n",
       "    </tr>\n",
       "  </thead>\n",
       "  <tbody>\n",
       "    <tr>\n",
       "      <th>0</th>\n",
       "      <td>1</td>\n",
       "      <td>30.0</td>\n",
       "      <td>1.0</td>\n",
       "      <td>33.0</td>\n",
       "      <td>1.0</td>\n",
       "      <td>1</td>\n",
       "      <td>1</td>\n",
       "      <td>28029.0</td>\n",
       "      <td>152.0</td>\n",
       "      <td>97.0</td>\n",
       "      <td>0</td>\n",
       "    </tr>\n",
       "    <tr>\n",
       "      <th>1</th>\n",
       "      <td>0</td>\n",
       "      <td>48.0</td>\n",
       "      <td>1.0</td>\n",
       "      <td>39.0</td>\n",
       "      <td>0.0</td>\n",
       "      <td>2</td>\n",
       "      <td>0</td>\n",
       "      <td>25800.0</td>\n",
       "      <td>29.0</td>\n",
       "      <td>158.0</td>\n",
       "      <td>0</td>\n",
       "    </tr>\n",
       "    <tr>\n",
       "      <th>3</th>\n",
       "      <td>1</td>\n",
       "      <td>58.0</td>\n",
       "      <td>1.0</td>\n",
       "      <td>48.0</td>\n",
       "      <td>0.0</td>\n",
       "      <td>0</td>\n",
       "      <td>1</td>\n",
       "      <td>2630.0</td>\n",
       "      <td>124.0</td>\n",
       "      <td>63.0</td>\n",
       "      <td>0</td>\n",
       "    </tr>\n",
       "    <tr>\n",
       "      <th>5</th>\n",
       "      <td>0</td>\n",
       "      <td>21.0</td>\n",
       "      <td>1.0</td>\n",
       "      <td>35.0</td>\n",
       "      <td>1.0</td>\n",
       "      <td>1</td>\n",
       "      <td>1</td>\n",
       "      <td>22735.0</td>\n",
       "      <td>152.0</td>\n",
       "      <td>171.0</td>\n",
       "      <td>0</td>\n",
       "    </tr>\n",
       "    <tr>\n",
       "      <th>8</th>\n",
       "      <td>1</td>\n",
       "      <td>20.0</td>\n",
       "      <td>1.0</td>\n",
       "      <td>8.0</td>\n",
       "      <td>1.0</td>\n",
       "      <td>1</td>\n",
       "      <td>1</td>\n",
       "      <td>30786.0</td>\n",
       "      <td>160.0</td>\n",
       "      <td>31.0</td>\n",
       "      <td>0</td>\n",
       "    </tr>\n",
       "  </tbody>\n",
       "</table>\n",
       "</div>"
      ],
      "text/plain": [
       "   Jenis_Kelamin  Umur  SIM  Kode_Daerah  Sudah_Asuransi  Umur_Kendaraan  \\\n",
       "0              1  30.0  1.0         33.0             1.0               1   \n",
       "1              0  48.0  1.0         39.0             0.0               2   \n",
       "3              1  58.0  1.0         48.0             0.0               0   \n",
       "5              0  21.0  1.0         35.0             1.0               1   \n",
       "8              1  20.0  1.0          8.0             1.0               1   \n",
       "\n",
       "   Kendaraan_Rusak    Premi  Kanal_Penjualan  Lama_Berlangganan  Tertarik  \n",
       "0                1  28029.0            152.0               97.0         0  \n",
       "1                0  25800.0             29.0              158.0         0  \n",
       "3                1   2630.0            124.0               63.0         0  \n",
       "5                1  22735.0            152.0              171.0         0  \n",
       "8                1  30786.0            160.0               31.0         0  "
      ]
     },
     "execution_count": 10,
     "metadata": {},
     "output_type": "execute_result"
    }
   ],
   "source": [
    "dataset.head()"
   ]
  },
  {
   "cell_type": "markdown",
   "metadata": {
    "id": "H13lftB4BuJe"
   },
   "source": [
    "<h3>SPLITTING DATA</h3>"
   ]
  },
  {
   "cell_type": "markdown",
   "metadata": {
    "id": "12Y9J4yA4shl"
   },
   "source": [
    "Data train kemudian di-split ke dalam variabel X yang merupakan fitur-fitur dari dataset dan y yang merupakan label dataset (Tertarik)"
   ]
  },
  {
   "cell_type": "code",
   "execution_count": 11,
   "metadata": {
    "id": "yKIYjRDUbkkV"
   },
   "outputs": [],
   "source": [
    "y = dataset.Tertarik\n",
    "X = dataset.drop(['Tertarik'], axis=1)"
   ]
  },
  {
   "cell_type": "markdown",
   "metadata": {
    "id": "3egg0Pjs43R7"
   },
   "source": [
    "X dan y dipisahkan lagi menjadi data train dan data validasi. Komposisi data validasi adalah 20% dari dataset.\n",
    "1. Data train adalah data yang digunakan untuk melatih model.\n",
    "2. Data validasi adalah data yang digunakan untuk mengevaluasi model yang sudah dilatih, model tidak belajar dari data ini"
   ]
  },
  {
   "cell_type": "code",
   "execution_count": 12,
   "metadata": {
    "id": "DOFqH9S9bnxw"
   },
   "outputs": [],
   "source": [
    "from sklearn.model_selection import train_test_split\n",
    "X_train, X_valid, y_train, y_valid = train_test_split(X, y, test_size=0.2, random_state=0)"
   ]
  },
  {
   "cell_type": "markdown",
   "metadata": {
    "id": "S_nvZN_gBy1Z"
   },
   "source": [
    "<h3>OVERSAMPLING</h3>"
   ]
  },
  {
   "cell_type": "markdown",
   "metadata": {
    "id": "J7AgH5um5XUZ"
   },
   "source": [
    "Frekuensi data dengan label(Tertarik=1) sangat jauh lebih sedikit dibanding dengan label(Tertarik=0). Hal ini dinamakan imbalance dataset."
   ]
  },
  {
   "cell_type": "code",
   "execution_count": 13,
   "metadata": {
    "colab": {
     "base_uri": "https://localhost:8080/",
     "height": 316
    },
    "id": "KozL5OzRgfdC",
    "outputId": "e59c54e2-383d-4d54-b3ff-c3d3bd0f883f"
   },
   "outputs": [
    {
     "data": {
      "image/png": "[encoded data removed]",
      "text/plain": [
       "<Figure size 720x360 with 1 Axes>"
      ]
     },
     "metadata": {
      "needs_background": "light"
     },
     "output_type": "display_data"
    }
   ],
   "source": [
    "label_df = pd.DataFrame(data=y_train, columns=['Tertarik'])\n",
    "fig, ax1 = plt.subplots(1, 1, figsize= (10, 5))\n",
    "label_df.Tertarik.value_counts().plot(kind='bar', ax=ax1)\n",
    "plt.show()"
   ]
  },
  {
   "cell_type": "markdown",
   "metadata": {
    "id": "pq8XRATS5kfz"
   },
   "source": [
    "Untuk mengatasi imbalance dataset adalah menggunakan teknik oversampling, oversampling adalah teknik dengan membuat sample baru pada label minoritas sehingga komposisi setiap label seimbang.\n",
    "\n",
    "Metode oversampling yang digunakan adalah Synthetic Minority Oversampling Technique (SMOTE). Cara kerjanya yaitu dengan memilih salah satu data pada kelas minoritas, kemudian k dari tetangga terdekat dipilih secara acak menjadi sample baru. Hal ini terus berulang sampai setiap kelas memiliki banyak yang sama."
   ]
  },
  {
   "cell_type": "code",
   "execution_count": 14,
   "metadata": {
    "colab": {
     "base_uri": "https://localhost:8080/"
    },
    "id": "PJHjjZpGgzH6",
    "outputId": "f3a8696b-ce4e-4be3-e7b2-e93dfb152144"
   },
   "outputs": [],
   "source": [
    "from imblearn.over_sampling import SMOTE\n",
    "oversample = SMOTE()\n",
    "X_train, y_train = oversample.fit_resample(X_train, y_train)"
   ]
  },
  {
   "cell_type": "code",
   "execution_count": 15,
   "metadata": {
    "colab": {
     "base_uri": "https://localhost:8080/",
     "height": 316
    },
    "id": "VMvbDTgbg_Hj",
    "outputId": "2c3cf668-4e09-43b4-e06e-8023bfd3d6ac"
   },
   "outputs": [
    {
     "data": {
      "image/png": "[encoded data removed]",
      "text/plain": [
       "<Figure size 720x360 with 1 Axes>"
      ]
     },
     "metadata": {
      "needs_background": "light"
     },
     "output_type": "display_data"
    }
   ],
   "source": [
    "label_df = pd.DataFrame(data=y_train, columns=['Tertarik'])\n",
    "fig, ax1 = plt.subplots(1, 1, figsize= (10, 5))\n",
    "label_df.Tertarik.value_counts().plot(kind='bar', ax=ax1)\n",
    "plt.show()"
   ]
  },
  {
   "cell_type": "markdown",
   "metadata": {
    "id": "eR4dmWjnB20V"
   },
   "source": [
    "<h3>NORMALISASI DATA</h3>"
   ]
  },
  {
   "cell_type": "markdown",
   "metadata": {
    "id": "zrhErEp66buB"
   },
   "source": [
    "Selanjutnya fitur-fitur (X) dinormalisasikan dengan menggunakan MinMaxScaler. \n",
    "Normalisasi ini berguna agar model dapat berlatih secara efisien dan efektif, karena beberapa model machine learning sekarang justru lebih baik belajar pada data yang sudah dinormalisasikan"
   ]
  },
  {
   "cell_type": "code",
   "execution_count": 16,
   "metadata": {
    "id": "0h6_4wBggi8x"
   },
   "outputs": [],
   "source": [
    "from sklearn.preprocessing import MinMaxScaler\n",
    "scaler = MinMaxScaler()\n",
    "X_train = scaler.fit_transform(X_train)\n",
    "X_valid = scaler.transform(X_valid)"
   ]
  },
  {
   "cell_type": "markdown",
   "metadata": {
    "id": "ajeOLozwB47H"
   },
   "source": [
    "<h3>MODEL KLASIFIKASI"
   ]
  },
  {
   "cell_type": "markdown",
   "metadata": {
    "id": "grI8QVBa6-5N"
   },
   "source": [
    "Untuk mencari model terbaik maka dilakukan beberapa percobaaan menggunakan model klasifikasi berikut.\n",
    "1. K Neighbors\n",
    "2. Logistic Regression\n",
    "3. Decision Tree\n",
    "4. Random Forest\n",
    "5. Naive Bayes"
   ]
  },
  {
   "cell_type": "code",
   "execution_count": 17,
   "metadata": {
    "id": "5ScoNkcPbpDk"
   },
   "outputs": [],
   "source": [
    "from sklearn.metrics import accuracy_score, mean_squared_error\n",
    "from sklearn.neighbors import KNeighborsClassifier\n",
    "from sklearn.linear_model import LogisticRegression\n",
    "from sklearn.tree import DecisionTreeClassifier\n",
    "from sklearn.ensemble import RandomForestClassifier\n",
    "from sklearn.naive_bayes import GaussianNB\n",
    "from sklearn.metrics import classification_report, confusion_matrix"
   ]
  },
  {
   "cell_type": "code",
   "execution_count": 18,
   "metadata": {
    "id": "dQphGm9Ab0Dk"
   },
   "outputs": [],
   "source": [
    "classifiers = [\n",
    "    KNeighborsClassifier(5),\n",
    "    LogisticRegression(),\n",
    "    DecisionTreeClassifier(),\n",
    "    RandomForestClassifier(),\n",
    "    GaussianNB()\n",
    "]"
   ]
  },
  {
   "cell_type": "markdown",
   "metadata": {
    "id": "KUMgCC37B9H6"
   },
   "source": [
    "<h3>MODEL DILATIH</h3>"
   ]
  },
  {
   "cell_type": "markdown",
   "metadata": {
    "id": "6CB53aWP7LCP"
   },
   "source": [
    "Setiap model dilatih menggunakan dataset yang sama, kemudian model-model tersebut dievaluasi menggunakan data validasi, hasil dari evaluasi tersebut adalah Mean Squared Error (MSE). Semakin kecil MSE, semakin bagus model bekerja pada dataset tersebut."
   ]
  },
  {
   "cell_type": "code",
   "execution_count": 19,
   "metadata": {
    "colab": {
     "base_uri": "https://localhost:8080/"
    },
    "id": "xUKKKUfIcBN9",
    "outputId": "50b3bf01-3166-4255-f9a5-a5736428f5cf"
   },
   "outputs": [
    {
     "name": "stdout",
     "output_type": "stream",
     "text": [
      "KNeighborsClassifier\n",
      "Mean Squared Error: X_valid 0.22151750745308937\n",
      "\n",
      "LogisticRegression\n",
      "Mean Squared Error: X_valid 0.29297948208335767\n",
      "\n",
      "DecisionTreeClassifier\n",
      "Mean Squared Error: X_valid 0.17902028409423043\n",
      "\n",
      "RandomForestClassifier\n",
      "Mean Squared Error: X_valid 0.16265271526275793\n",
      "\n",
      "GaussianNB\n",
      "Mean Squared Error: X_valid 0.3611679429473315\n",
      "\n"
     ]
    }
   ],
   "source": [
    "columns=[\"Classifier\", \"Accuracy\", \"MSE\"]\n",
    "log = pd.DataFrame(columns=columns)\n",
    "target_names = list(dataset['Tertarik'].unique())\n",
    "for clf in classifiers:\n",
    "    clf.fit(X_train, y_train)\n",
    "    name = clf.__class__.__name__\n",
    "    print(name)\n",
    "    train_predictions = clf.predict(X_valid)\n",
    "    mse = mean_squared_error(y_valid, train_predictions)\n",
    "    print(\"Mean Squared Error: X_valid\",mse)\n",
    "    log_entry = pd.DataFrame([[name, mse*100, mse]], columns=columns)\n",
    "    log = log.append(log_entry)\n",
    "    print('')"
   ]
  },
  {
   "cell_type": "markdown",
   "metadata": {
    "id": "_zs52s1UCAMV"
   },
   "source": [
    "<h3>VISUALISASI MSE</h3>"
   ]
  },
  {
   "cell_type": "code",
   "execution_count": 20,
   "metadata": {
    "colab": {
     "base_uri": "https://localhost:8080/",
     "height": 295
    },
    "id": "tDnyRZ2Me-8r",
    "outputId": "b370b647-7f0e-4d0a-84e4-1bfcc897ef49"
   },
   "outputs": [
    {
     "data": {
      "image/png": "[encoded data removed]",
      "text/plain": [
       "<Figure size 432x288 with 1 Axes>"
      ]
     },
     "metadata": {
      "needs_background": "light"
     },
     "output_type": "display_data"
    }
   ],
   "source": [
    "sns.set_color_codes(\"muted\")\n",
    "sns.barplot(x='MSE', y='Classifier', data=log, color=\"b\")\n",
    "sns.set(rc={'figure.figsize':(5,10)})\n",
    "plt.xlabel('MSE')\n",
    "plt.title('Classifier MSE')\n",
    "plt.show()\n"
   ]
  },
  {
   "cell_type": "markdown",
   "metadata": {
    "id": "DqGShwCQ7j8W"
   },
   "source": [
    "Random Forest menjadi model klasifikasi terbaik untuk dataset ini.\n",
    "\n",
    "Kemudian model Random Forest ini dilatih pada data train, kemudian selanjutnya akan memprediksi label pada data test"
   ]
  },
  {
   "cell_type": "code",
   "execution_count": 21,
   "metadata": {
    "colab": {
     "base_uri": "https://localhost:8080/"
    },
    "id": "Pex2xU6zkKRV",
    "outputId": "7b3ffdee-1625-49fe-8840-937da870ec80"
   },
   "outputs": [
    {
     "name": "stdout",
     "output_type": "stream",
     "text": [
      "Akurasi:  0.8360904892733969\n",
      "Mean Squared Error:  0.16390951072660315\n",
      "              precision    recall  f1-score   support\n",
      "\n",
      "           0       0.90      0.91      0.91     29996\n",
      "           1       0.33      0.32      0.32      4218\n",
      "\n",
      "    accuracy                           0.84     34214\n",
      "   macro avg       0.62      0.61      0.62     34214\n",
      "weighted avg       0.83      0.84      0.83     34214\n",
      "\n"
     ]
    }
   ],
   "source": [
    "model = RandomForestClassifier()\n",
    "model.fit(X_train, y_train)\n",
    "train_predictions = model.predict(X_valid)\n",
    "acc = accuracy_score(y_valid, train_predictions)\n",
    "mse = mean_squared_error(y_valid, train_predictions)\n",
    "print(\"Akurasi: \",acc)\n",
    "print(\"Mean Squared Error: \",mse)\n",
    "print(classification_report(y_valid.to_numpy().ravel(), train_predictions, labels=target_names))"
   ]
  },
  {
   "cell_type": "markdown",
   "metadata": {
    "id": "9QKg4O_dCEML"
   },
   "source": [
    "<h2>EVALUASI MODEL\n",
    "\n",
    "</h2>"
   ]
  },
  {
   "cell_type": "markdown",
   "metadata": {
    "id": "fdS-rC2J72UN"
   },
   "source": [
    "Input data test (kendaraan_test.csv)"
   ]
  },
  {
   "cell_type": "code",
   "execution_count": 22,
   "metadata": {
    "colab": {
     "base_uri": "https://localhost:8080/",
     "height": 221
    },
    "id": "bwF4hxPUqE5q",
    "outputId": "8db183c1-c842-4d7b-f695-6147d23df4a1"
   },
   "outputs": [
    {
     "data": {
      "text/html": [
       "<div>\n",
       "<style scoped>\n",
       "    .dataframe tbody tr th:only-of-type {\n",
       "        vertical-align: middle;\n",
       "    }\n",
       "\n",
       "    .dataframe tbody tr th {\n",
       "        vertical-align: top;\n",
       "    }\n",
       "\n",
       "    .dataframe thead th {\n",
       "        text-align: right;\n",
       "    }\n",
       "</style>\n",
       "<table border=\"1\" class=\"dataframe\">\n",
       "  <thead>\n",
       "    <tr style=\"text-align: right;\">\n",
       "      <th></th>\n",
       "      <th>Jenis_Kelamin</th>\n",
       "      <th>Umur</th>\n",
       "      <th>SIM</th>\n",
       "      <th>Kode_Daerah</th>\n",
       "      <th>Sudah_Asuransi</th>\n",
       "      <th>Umur_Kendaraan</th>\n",
       "      <th>Kendaraan_Rusak</th>\n",
       "      <th>Premi</th>\n",
       "      <th>Kanal_Penjualan</th>\n",
       "      <th>Lama_Berlangganan</th>\n",
       "      <th>Tertarik</th>\n",
       "    </tr>\n",
       "  </thead>\n",
       "  <tbody>\n",
       "    <tr>\n",
       "      <th>0</th>\n",
       "      <td>Wanita</td>\n",
       "      <td>49</td>\n",
       "      <td>1</td>\n",
       "      <td>8</td>\n",
       "      <td>0</td>\n",
       "      <td>1-2 Tahun</td>\n",
       "      <td>Pernah</td>\n",
       "      <td>46963</td>\n",
       "      <td>26</td>\n",
       "      <td>145</td>\n",
       "      <td>0</td>\n",
       "    </tr>\n",
       "    <tr>\n",
       "      <th>1</th>\n",
       "      <td>Pria</td>\n",
       "      <td>22</td>\n",
       "      <td>1</td>\n",
       "      <td>47</td>\n",
       "      <td>1</td>\n",
       "      <td>&lt; 1 Tahun</td>\n",
       "      <td>Tidak</td>\n",
       "      <td>39624</td>\n",
       "      <td>152</td>\n",
       "      <td>241</td>\n",
       "      <td>0</td>\n",
       "    </tr>\n",
       "    <tr>\n",
       "      <th>2</th>\n",
       "      <td>Pria</td>\n",
       "      <td>24</td>\n",
       "      <td>1</td>\n",
       "      <td>28</td>\n",
       "      <td>1</td>\n",
       "      <td>&lt; 1 Tahun</td>\n",
       "      <td>Tidak</td>\n",
       "      <td>110479</td>\n",
       "      <td>152</td>\n",
       "      <td>62</td>\n",
       "      <td>0</td>\n",
       "    </tr>\n",
       "    <tr>\n",
       "      <th>3</th>\n",
       "      <td>Pria</td>\n",
       "      <td>46</td>\n",
       "      <td>1</td>\n",
       "      <td>8</td>\n",
       "      <td>1</td>\n",
       "      <td>1-2 Tahun</td>\n",
       "      <td>Tidak</td>\n",
       "      <td>36266</td>\n",
       "      <td>124</td>\n",
       "      <td>34</td>\n",
       "      <td>0</td>\n",
       "    </tr>\n",
       "    <tr>\n",
       "      <th>4</th>\n",
       "      <td>Pria</td>\n",
       "      <td>35</td>\n",
       "      <td>1</td>\n",
       "      <td>23</td>\n",
       "      <td>0</td>\n",
       "      <td>1-2 Tahun</td>\n",
       "      <td>Pernah</td>\n",
       "      <td>26963</td>\n",
       "      <td>152</td>\n",
       "      <td>229</td>\n",
       "      <td>0</td>\n",
       "    </tr>\n",
       "  </tbody>\n",
       "</table>\n",
       "</div>"
      ],
      "text/plain": [
       "  Jenis_Kelamin  Umur  SIM  Kode_Daerah  Sudah_Asuransi Umur_Kendaraan  \\\n",
       "0        Wanita    49    1            8               0      1-2 Tahun   \n",
       "1          Pria    22    1           47               1      < 1 Tahun   \n",
       "2          Pria    24    1           28               1      < 1 Tahun   \n",
       "3          Pria    46    1            8               1      1-2 Tahun   \n",
       "4          Pria    35    1           23               0      1-2 Tahun   \n",
       "\n",
       "  Kendaraan_Rusak   Premi  Kanal_Penjualan  Lama_Berlangganan  Tertarik  \n",
       "0          Pernah   46963               26                145         0  \n",
       "1           Tidak   39624              152                241         0  \n",
       "2           Tidak  110479              152                 62         0  \n",
       "3           Tidak   36266              124                 34         0  \n",
       "4          Pernah   26963              152                229         0  "
      ]
     },
     "execution_count": 22,
     "metadata": {},
     "output_type": "execute_result"
    }
   ],
   "source": [
    "data_test = pd.read_csv('kendaraan_test.csv')\n",
    "data_test.head()"
   ]
  },
  {
   "cell_type": "markdown",
   "metadata": {
    "id": "Gh9niV5y75fV"
   },
   "source": [
    "periksa apakah terdapat NaN/Null values pada setiap rows"
   ]
  },
  {
   "cell_type": "code",
   "execution_count": 23,
   "metadata": {
    "colab": {
     "base_uri": "https://localhost:8080/"
    },
    "id": "obGT5BdkqIhH",
    "outputId": "0311f8f0-3eb7-4547-f573-0a5e1d08edfe"
   },
   "outputs": [
    {
     "data": {
      "text/plain": [
       "False"
      ]
     },
     "execution_count": 23,
     "metadata": {},
     "output_type": "execute_result"
    }
   ],
   "source": [
    "data_test.isnull().values.any()"
   ]
  },
  {
   "cell_type": "code",
   "execution_count": 24,
   "metadata": {
    "colab": {
     "base_uri": "https://localhost:8080/"
    },
    "id": "Inrc4uhdqSOa",
    "outputId": "4ed882f4-8000-41f1-b5de-cbbdfcb51c95"
   },
   "outputs": [
    {
     "data": {
      "text/plain": [
       "Jenis_Kelamin        object\n",
       "Umur                  int64\n",
       "SIM                   int64\n",
       "Kode_Daerah           int64\n",
       "Sudah_Asuransi        int64\n",
       "Umur_Kendaraan       object\n",
       "Kendaraan_Rusak      object\n",
       "Premi                 int64\n",
       "Kanal_Penjualan       int64\n",
       "Lama_Berlangganan     int64\n",
       "Tertarik              int64\n",
       "dtype: object"
      ]
     },
     "execution_count": 24,
     "metadata": {},
     "output_type": "execute_result"
    }
   ],
   "source": [
    "data_test.dtypes"
   ]
  },
  {
   "cell_type": "markdown",
   "metadata": {
    "id": "F-59d9He8SUQ"
   },
   "source": [
    "Karena tipe data Jenis_Kelamin, Umur_Kendaraan, dan Kendaraan_Rusak bertipe kategorikal, maka kolom-kolom tersebut dirubah ke tipe numerikal hal ini dilakukan agar setiap rownya bisa dihitung jaraknya terhadap centroid seperti yang ada pada algoritma k-nn\n",
    "\n",
    "Merubah tipe data ini menggunakan fungsi LabelEncoder yang ada pada library sklearn"
   ]
  },
  {
   "cell_type": "code",
   "execution_count": 25,
   "metadata": {
    "id": "O_ad3cN2qUl2"
   },
   "outputs": [],
   "source": [
    "data_test['Jenis_Kelamin'] = LabelEncoder().fit_transform(data_test['Jenis_Kelamin'])\n",
    "data_test['Umur_Kendaraan'] = LabelEncoder().fit_transform(data_test['Umur_Kendaraan'])\n",
    "data_test['Kendaraan_Rusak'] = LabelEncoder().fit_transform(data_test['Kendaraan_Rusak'])"
   ]
  },
  {
   "cell_type": "code",
   "execution_count": 26,
   "metadata": {
    "colab": {
     "base_uri": "https://localhost:8080/",
     "height": 221
    },
    "id": "JV6DaO8cqdPG",
    "outputId": "2dcc3d23-94da-47e8-a370-cbf06c912f69"
   },
   "outputs": [
    {
     "data": {
      "text/html": [
       "<div>\n",
       "<style scoped>\n",
       "    .dataframe tbody tr th:only-of-type {\n",
       "        vertical-align: middle;\n",
       "    }\n",
       "\n",
       "    .dataframe tbody tr th {\n",
       "        vertical-align: top;\n",
       "    }\n",
       "\n",
       "    .dataframe thead th {\n",
       "        text-align: right;\n",
       "    }\n",
       "</style>\n",
       "<table border=\"1\" class=\"dataframe\">\n",
       "  <thead>\n",
       "    <tr style=\"text-align: right;\">\n",
       "      <th></th>\n",
       "      <th>Jenis_Kelamin</th>\n",
       "      <th>Umur</th>\n",
       "      <th>SIM</th>\n",
       "      <th>Kode_Daerah</th>\n",
       "      <th>Sudah_Asuransi</th>\n",
       "      <th>Umur_Kendaraan</th>\n",
       "      <th>Kendaraan_Rusak</th>\n",
       "      <th>Premi</th>\n",
       "      <th>Kanal_Penjualan</th>\n",
       "      <th>Lama_Berlangganan</th>\n",
       "      <th>Tertarik</th>\n",
       "    </tr>\n",
       "  </thead>\n",
       "  <tbody>\n",
       "    <tr>\n",
       "      <th>0</th>\n",
       "      <td>1</td>\n",
       "      <td>49</td>\n",
       "      <td>1</td>\n",
       "      <td>8</td>\n",
       "      <td>0</td>\n",
       "      <td>0</td>\n",
       "      <td>0</td>\n",
       "      <td>46963</td>\n",
       "      <td>26</td>\n",
       "      <td>145</td>\n",
       "      <td>0</td>\n",
       "    </tr>\n",
       "    <tr>\n",
       "      <th>1</th>\n",
       "      <td>0</td>\n",
       "      <td>22</td>\n",
       "      <td>1</td>\n",
       "      <td>47</td>\n",
       "      <td>1</td>\n",
       "      <td>1</td>\n",
       "      <td>1</td>\n",
       "      <td>39624</td>\n",
       "      <td>152</td>\n",
       "      <td>241</td>\n",
       "      <td>0</td>\n",
       "    </tr>\n",
       "    <tr>\n",
       "      <th>2</th>\n",
       "      <td>0</td>\n",
       "      <td>24</td>\n",
       "      <td>1</td>\n",
       "      <td>28</td>\n",
       "      <td>1</td>\n",
       "      <td>1</td>\n",
       "      <td>1</td>\n",
       "      <td>110479</td>\n",
       "      <td>152</td>\n",
       "      <td>62</td>\n",
       "      <td>0</td>\n",
       "    </tr>\n",
       "    <tr>\n",
       "      <th>3</th>\n",
       "      <td>0</td>\n",
       "      <td>46</td>\n",
       "      <td>1</td>\n",
       "      <td>8</td>\n",
       "      <td>1</td>\n",
       "      <td>0</td>\n",
       "      <td>1</td>\n",
       "      <td>36266</td>\n",
       "      <td>124</td>\n",
       "      <td>34</td>\n",
       "      <td>0</td>\n",
       "    </tr>\n",
       "    <tr>\n",
       "      <th>4</th>\n",
       "      <td>0</td>\n",
       "      <td>35</td>\n",
       "      <td>1</td>\n",
       "      <td>23</td>\n",
       "      <td>0</td>\n",
       "      <td>0</td>\n",
       "      <td>0</td>\n",
       "      <td>26963</td>\n",
       "      <td>152</td>\n",
       "      <td>229</td>\n",
       "      <td>0</td>\n",
       "    </tr>\n",
       "  </tbody>\n",
       "</table>\n",
       "</div>"
      ],
      "text/plain": [
       "   Jenis_Kelamin  Umur  SIM  Kode_Daerah  Sudah_Asuransi  Umur_Kendaraan  \\\n",
       "0              1    49    1            8               0               0   \n",
       "1              0    22    1           47               1               1   \n",
       "2              0    24    1           28               1               1   \n",
       "3              0    46    1            8               1               0   \n",
       "4              0    35    1           23               0               0   \n",
       "\n",
       "   Kendaraan_Rusak   Premi  Kanal_Penjualan  Lama_Berlangganan  Tertarik  \n",
       "0                0   46963               26                145         0  \n",
       "1                1   39624              152                241         0  \n",
       "2                1  110479              152                 62         0  \n",
       "3                1   36266              124                 34         0  \n",
       "4                0   26963              152                229         0  "
      ]
     },
     "execution_count": 26,
     "metadata": {},
     "output_type": "execute_result"
    }
   ],
   "source": [
    "data_test.head()"
   ]
  },
  {
   "cell_type": "markdown",
   "metadata": {
    "id": "LpN2VRdv8YWy"
   },
   "source": [
    "Data train kemudian di-split ke dalam variabel X_test yang merupakan fitur-fitur dari dataset dan y_test yang merupakan label dataset (Tertarik)"
   ]
  },
  {
   "cell_type": "code",
   "execution_count": 27,
   "metadata": {
    "id": "yCa23vw5qfza"
   },
   "outputs": [],
   "source": [
    "y_test = data_test.Tertarik\n",
    "X_test = data_test.drop(['Tertarik'], axis=1)"
   ]
  },
  {
   "cell_type": "markdown",
   "metadata": {
    "id": "zlaJPRSU8hYQ"
   },
   "source": [
    "Selanjutnya fitur-fitur (X) dinormalisasikan dengan menggunakan MinMaxScaler. \n",
    "Normalisasi ini berguna agar model dapat berlatih secara efisien dan efektif, karena beberapa model machine learning sekarang justru lebih baik belajar pada data yang sudah dinormalisasikan"
   ]
  },
  {
   "cell_type": "code",
   "execution_count": 28,
   "metadata": {
    "id": "TZxKZEa2qmMR"
   },
   "outputs": [],
   "source": [
    "scaler = MinMaxScaler()\n",
    "X_test = scaler.fit_transform(X_test)"
   ]
  },
  {
   "cell_type": "markdown",
   "metadata": {
    "id": "MuefB0Yu8npE"
   },
   "source": [
    "Model yang sudah dilatih siap untuk memprediksi label pada X_test\n",
    "\n",
    "hasil prediksi disimpan pada variabel y_predict"
   ]
  },
  {
   "cell_type": "code",
   "execution_count": 29,
   "metadata": {
    "id": "cgA9d6K2ROt0"
   },
   "outputs": [],
   "source": [
    "y_predict = model.predict(X_test)"
   ]
  },
  {
   "cell_type": "code",
   "execution_count": 30,
   "metadata": {
    "colab": {
     "base_uri": "https://localhost:8080/"
    },
    "id": "MjH8qZer843S",
    "outputId": "5d889429-3ab5-445c-fffa-6d959369b1ac"
   },
   "outputs": [
    {
     "name": "stdout",
     "output_type": "stream",
     "text": [
      "Akurasi:  0.8341065093725729\n",
      "              precision    recall  f1-score   support\n",
      "\n",
      "           0       0.91      0.90      0.91     41778\n",
      "           1       0.33      0.34      0.33      5861\n",
      "\n",
      "    accuracy                           0.83     47639\n",
      "   macro avg       0.62      0.62      0.62     47639\n",
      "weighted avg       0.84      0.83      0.84     47639\n",
      "\n"
     ]
    }
   ],
   "source": [
    "acc = accuracy_score(y_test, y_predict)\n",
    "mse = mean_squared_error(y_test, y_predict)\n",
    "print(\"Akurasi: \",acc)\n",
    "print(classification_report(y_test, y_predict, labels=[0,1]))"
   ]
  }
 ],
 "metadata": {
  "colab": {
   "collapsed_sections": [],
   "name": "Untitled5.ipynb",
   "provenance": []
  },
  "kernelspec": {
   "display_name": "Python 3",
   "language": "python",
   "name": "python3"
  },
  "language_info": {
   "codemirror_mode": {
    "name": "ipython",
    "version": 3
   },
   "file_extension": ".py",
   "mimetype": "text/x-python",
   "name": "python",
   "nbconvert_exporter": "python",
   "pygments_lexer": "ipython3",
   "version": "3.7.5"
  }
 },
 "nbformat": 4,
 "nbformat_minor": 1
}
