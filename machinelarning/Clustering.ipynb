{
 "cells": [
  {
   "cell_type": "code",
   "execution_count": 1,
   "metadata": {},
   "outputs": [],
   "source": [
    "import pandas as pd\n",
    "import csv\n",
    "import numpy as np \n",
    "import matplotlib.pyplot as plt \n",
    "from sklearn.preprocessing import LabelEncoder\n",
    "from sklearn.decomposition import PCA\n",
    "import random\n",
    "import math"
   ]
  },
  {
   "cell_type": "markdown",
   "metadata": {},
   "source": [
    "<h1>UNSUPERVISED LEARNING (CLUSTERING)</h1>"
   ]
  },
  {
   "cell_type": "markdown",
   "metadata": {},
   "source": [
    "Task : Tugas untuk unsupervised learning adalah memprediksi apakah pelanggan tertarik untuk membeli kendaraan baru atau tidak berdasarkan data pelanggan di dealer."
   ]
  },
  {
   "cell_type": "markdown",
   "metadata": {},
   "source": [
    "Langkah pertama yaitu meng-<i>input</i> dataset (kendaraaan_train.csv)"
   ]
  },
  {
   "cell_type": "code",
   "execution_count": 2,
   "metadata": {},
   "outputs": [
    {
     "data": {
      "text/html": [
       "<div>\n",
       "<style scoped>\n",
       "    .dataframe tbody tr th:only-of-type {\n",
       "        vertical-align: middle;\n",
       "    }\n",
       "\n",
       "    .dataframe tbody tr th {\n",
       "        vertical-align: top;\n",
       "    }\n",
       "\n",
       "    .dataframe thead th {\n",
       "        text-align: right;\n",
       "    }\n",
       "</style>\n",
       "<table border=\"1\" class=\"dataframe\">\n",
       "  <thead>\n",
       "    <tr style=\"text-align: right;\">\n",
       "      <th></th>\n",
       "      <th>id</th>\n",
       "      <th>Jenis_Kelamin</th>\n",
       "      <th>Umur</th>\n",
       "      <th>SIM</th>\n",
       "      <th>Kode_Daerah</th>\n",
       "      <th>Sudah_Asuransi</th>\n",
       "      <th>Umur_Kendaraan</th>\n",
       "      <th>Kendaraan_Rusak</th>\n",
       "      <th>Premi</th>\n",
       "      <th>Kanal_Penjualan</th>\n",
       "      <th>Lama_Berlangganan</th>\n",
       "      <th>Tertarik</th>\n",
       "    </tr>\n",
       "  </thead>\n",
       "  <tbody>\n",
       "    <tr>\n",
       "      <th>0</th>\n",
       "      <td>1</td>\n",
       "      <td>Wanita</td>\n",
       "      <td>30.0</td>\n",
       "      <td>1.0</td>\n",
       "      <td>33.0</td>\n",
       "      <td>1.0</td>\n",
       "      <td>&lt; 1 Tahun</td>\n",
       "      <td>Tidak</td>\n",
       "      <td>28029.0</td>\n",
       "      <td>152.0</td>\n",
       "      <td>97.0</td>\n",
       "      <td>0</td>\n",
       "    </tr>\n",
       "    <tr>\n",
       "      <th>1</th>\n",
       "      <td>2</td>\n",
       "      <td>Pria</td>\n",
       "      <td>48.0</td>\n",
       "      <td>1.0</td>\n",
       "      <td>39.0</td>\n",
       "      <td>0.0</td>\n",
       "      <td>&gt; 2 Tahun</td>\n",
       "      <td>Pernah</td>\n",
       "      <td>25800.0</td>\n",
       "      <td>29.0</td>\n",
       "      <td>158.0</td>\n",
       "      <td>0</td>\n",
       "    </tr>\n",
       "    <tr>\n",
       "      <th>2</th>\n",
       "      <td>3</td>\n",
       "      <td>NaN</td>\n",
       "      <td>21.0</td>\n",
       "      <td>1.0</td>\n",
       "      <td>46.0</td>\n",
       "      <td>1.0</td>\n",
       "      <td>&lt; 1 Tahun</td>\n",
       "      <td>Tidak</td>\n",
       "      <td>32733.0</td>\n",
       "      <td>160.0</td>\n",
       "      <td>119.0</td>\n",
       "      <td>0</td>\n",
       "    </tr>\n",
       "    <tr>\n",
       "      <th>3</th>\n",
       "      <td>4</td>\n",
       "      <td>Wanita</td>\n",
       "      <td>58.0</td>\n",
       "      <td>1.0</td>\n",
       "      <td>48.0</td>\n",
       "      <td>0.0</td>\n",
       "      <td>1-2 Tahun</td>\n",
       "      <td>Tidak</td>\n",
       "      <td>2630.0</td>\n",
       "      <td>124.0</td>\n",
       "      <td>63.0</td>\n",
       "      <td>0</td>\n",
       "    </tr>\n",
       "    <tr>\n",
       "      <th>4</th>\n",
       "      <td>5</td>\n",
       "      <td>Pria</td>\n",
       "      <td>50.0</td>\n",
       "      <td>1.0</td>\n",
       "      <td>35.0</td>\n",
       "      <td>0.0</td>\n",
       "      <td>&gt; 2 Tahun</td>\n",
       "      <td>NaN</td>\n",
       "      <td>34857.0</td>\n",
       "      <td>88.0</td>\n",
       "      <td>194.0</td>\n",
       "      <td>0</td>\n",
       "    </tr>\n",
       "  </tbody>\n",
       "</table>\n",
       "</div>"
      ],
      "text/plain": [
       "   id Jenis_Kelamin  Umur  SIM  Kode_Daerah  Sudah_Asuransi Umur_Kendaraan  \\\n",
       "0   1        Wanita  30.0  1.0         33.0             1.0      < 1 Tahun   \n",
       "1   2          Pria  48.0  1.0         39.0             0.0      > 2 Tahun   \n",
       "2   3           NaN  21.0  1.0         46.0             1.0      < 1 Tahun   \n",
       "3   4        Wanita  58.0  1.0         48.0             0.0      1-2 Tahun   \n",
       "4   5          Pria  50.0  1.0         35.0             0.0      > 2 Tahun   \n",
       "\n",
       "  Kendaraan_Rusak    Premi  Kanal_Penjualan  Lama_Berlangganan  Tertarik  \n",
       "0           Tidak  28029.0            152.0               97.0         0  \n",
       "1          Pernah  25800.0             29.0              158.0         0  \n",
       "2           Tidak  32733.0            160.0              119.0         0  \n",
       "3           Tidak   2630.0            124.0               63.0         0  \n",
       "4             NaN  34857.0             88.0              194.0         0  "
      ]
     },
     "execution_count": 2,
     "metadata": {},
     "output_type": "execute_result"
    }
   ],
   "source": [
    "dataset = pd.read_csv('kendaraan_train.csv')\n",
    "dataset.head()"
   ]
  },
  {
   "cell_type": "markdown",
   "metadata": {},
   "source": [
    "Periksa dataset apakah terdapat data NaN/Null/Kosong pada setiap rownya"
   ]
  },
  {
   "cell_type": "code",
   "execution_count": 3,
   "metadata": {},
   "outputs": [
    {
     "data": {
      "text/plain": [
       "True"
      ]
     },
     "execution_count": 3,
     "metadata": {},
     "output_type": "execute_result"
    }
   ],
   "source": [
    "dataset.isnull().values.any()"
   ]
  },
  {
   "cell_type": "markdown",
   "metadata": {},
   "source": [
    "Karena terdapat data NaN pada dataset, maka data yang memiliki value NaN akan di-drop"
   ]
  },
  {
   "cell_type": "code",
   "execution_count": 4,
   "metadata": {},
   "outputs": [],
   "source": [
    "dataset = dataset.dropna()"
   ]
  },
  {
   "cell_type": "code",
   "execution_count": 5,
   "metadata": {},
   "outputs": [
    {
     "data": {
      "text/html": [
       "<div>\n",
       "<style scoped>\n",
       "    .dataframe tbody tr th:only-of-type {\n",
       "        vertical-align: middle;\n",
       "    }\n",
       "\n",
       "    .dataframe tbody tr th {\n",
       "        vertical-align: top;\n",
       "    }\n",
       "\n",
       "    .dataframe thead th {\n",
       "        text-align: right;\n",
       "    }\n",
       "</style>\n",
       "<table border=\"1\" class=\"dataframe\">\n",
       "  <thead>\n",
       "    <tr style=\"text-align: right;\">\n",
       "      <th></th>\n",
       "      <th>id</th>\n",
       "      <th>Jenis_Kelamin</th>\n",
       "      <th>Umur</th>\n",
       "      <th>SIM</th>\n",
       "      <th>Kode_Daerah</th>\n",
       "      <th>Sudah_Asuransi</th>\n",
       "      <th>Umur_Kendaraan</th>\n",
       "      <th>Kendaraan_Rusak</th>\n",
       "      <th>Premi</th>\n",
       "      <th>Kanal_Penjualan</th>\n",
       "      <th>Lama_Berlangganan</th>\n",
       "      <th>Tertarik</th>\n",
       "    </tr>\n",
       "  </thead>\n",
       "  <tbody>\n",
       "    <tr>\n",
       "      <th>0</th>\n",
       "      <td>1</td>\n",
       "      <td>Wanita</td>\n",
       "      <td>30.0</td>\n",
       "      <td>1.0</td>\n",
       "      <td>33.0</td>\n",
       "      <td>1.0</td>\n",
       "      <td>&lt; 1 Tahun</td>\n",
       "      <td>Tidak</td>\n",
       "      <td>28029.0</td>\n",
       "      <td>152.0</td>\n",
       "      <td>97.0</td>\n",
       "      <td>0</td>\n",
       "    </tr>\n",
       "    <tr>\n",
       "      <th>1</th>\n",
       "      <td>2</td>\n",
       "      <td>Pria</td>\n",
       "      <td>48.0</td>\n",
       "      <td>1.0</td>\n",
       "      <td>39.0</td>\n",
       "      <td>0.0</td>\n",
       "      <td>&gt; 2 Tahun</td>\n",
       "      <td>Pernah</td>\n",
       "      <td>25800.0</td>\n",
       "      <td>29.0</td>\n",
       "      <td>158.0</td>\n",
       "      <td>0</td>\n",
       "    </tr>\n",
       "    <tr>\n",
       "      <th>3</th>\n",
       "      <td>4</td>\n",
       "      <td>Wanita</td>\n",
       "      <td>58.0</td>\n",
       "      <td>1.0</td>\n",
       "      <td>48.0</td>\n",
       "      <td>0.0</td>\n",
       "      <td>1-2 Tahun</td>\n",
       "      <td>Tidak</td>\n",
       "      <td>2630.0</td>\n",
       "      <td>124.0</td>\n",
       "      <td>63.0</td>\n",
       "      <td>0</td>\n",
       "    </tr>\n",
       "    <tr>\n",
       "      <th>5</th>\n",
       "      <td>6</td>\n",
       "      <td>Pria</td>\n",
       "      <td>21.0</td>\n",
       "      <td>1.0</td>\n",
       "      <td>35.0</td>\n",
       "      <td>1.0</td>\n",
       "      <td>&lt; 1 Tahun</td>\n",
       "      <td>Tidak</td>\n",
       "      <td>22735.0</td>\n",
       "      <td>152.0</td>\n",
       "      <td>171.0</td>\n",
       "      <td>0</td>\n",
       "    </tr>\n",
       "    <tr>\n",
       "      <th>8</th>\n",
       "      <td>9</td>\n",
       "      <td>Wanita</td>\n",
       "      <td>20.0</td>\n",
       "      <td>1.0</td>\n",
       "      <td>8.0</td>\n",
       "      <td>1.0</td>\n",
       "      <td>&lt; 1 Tahun</td>\n",
       "      <td>Tidak</td>\n",
       "      <td>30786.0</td>\n",
       "      <td>160.0</td>\n",
       "      <td>31.0</td>\n",
       "      <td>0</td>\n",
       "    </tr>\n",
       "  </tbody>\n",
       "</table>\n",
       "</div>"
      ],
      "text/plain": [
       "   id Jenis_Kelamin  Umur  SIM  Kode_Daerah  Sudah_Asuransi Umur_Kendaraan  \\\n",
       "0   1        Wanita  30.0  1.0         33.0             1.0      < 1 Tahun   \n",
       "1   2          Pria  48.0  1.0         39.0             0.0      > 2 Tahun   \n",
       "3   4        Wanita  58.0  1.0         48.0             0.0      1-2 Tahun   \n",
       "5   6          Pria  21.0  1.0         35.0             1.0      < 1 Tahun   \n",
       "8   9        Wanita  20.0  1.0          8.0             1.0      < 1 Tahun   \n",
       "\n",
       "  Kendaraan_Rusak    Premi  Kanal_Penjualan  Lama_Berlangganan  Tertarik  \n",
       "0           Tidak  28029.0            152.0               97.0         0  \n",
       "1          Pernah  25800.0             29.0              158.0         0  \n",
       "3           Tidak   2630.0            124.0               63.0         0  \n",
       "5           Tidak  22735.0            152.0              171.0         0  \n",
       "8           Tidak  30786.0            160.0               31.0         0  "
      ]
     },
     "execution_count": 5,
     "metadata": {},
     "output_type": "execute_result"
    }
   ],
   "source": [
    "dataset.head()"
   ]
  },
  {
   "cell_type": "code",
   "execution_count": 6,
   "metadata": {},
   "outputs": [
    {
     "data": {
      "text/plain": [
       "id                     int64\n",
       "Jenis_Kelamin         object\n",
       "Umur                 float64\n",
       "SIM                  float64\n",
       "Kode_Daerah          float64\n",
       "Sudah_Asuransi       float64\n",
       "Umur_Kendaraan        object\n",
       "Kendaraan_Rusak       object\n",
       "Premi                float64\n",
       "Kanal_Penjualan      float64\n",
       "Lama_Berlangganan    float64\n",
       "Tertarik               int64\n",
       "dtype: object"
      ]
     },
     "execution_count": 6,
     "metadata": {},
     "output_type": "execute_result"
    }
   ],
   "source": [
    "dataset.dtypes"
   ]
  },
  {
   "cell_type": "markdown",
   "metadata": {},
   "source": [
    "Karena tipe data Jenis_Kelamin, Umur_Kendaraan, dan Kendaraan_Rusak bertipe kategorikal, maka kolom-kolom tersebut dirubah ke tipe numerikal\n",
    "hal ini dilakukan agar setiap rownya bisa dihitung jaraknya terhadap centroid seperti yang ada pada algoritma k-nn\n",
    "\n",
    "Merubah tipe data ini menggunakan fungsi LabelEncoder yang ada pada library sklearn"
   ]
  },
  {
   "cell_type": "code",
   "execution_count": 7,
   "metadata": {},
   "outputs": [],
   "source": [
    "dataset['Jenis_Kelamin'] = LabelEncoder().fit_transform(dataset['Jenis_Kelamin'])\n",
    "dataset['Umur_Kendaraan'] = LabelEncoder().fit_transform(dataset['Umur_Kendaraan'])\n",
    "dataset['Kendaraan_Rusak'] = LabelEncoder().fit_transform(dataset['Kendaraan_Rusak'])"
   ]
  },
  {
   "cell_type": "code",
   "execution_count": 8,
   "metadata": {},
   "outputs": [
    {
     "data": {
      "text/html": [
       "<div>\n",
       "<style scoped>\n",
       "    .dataframe tbody tr th:only-of-type {\n",
       "        vertical-align: middle;\n",
       "    }\n",
       "\n",
       "    .dataframe tbody tr th {\n",
       "        vertical-align: top;\n",
       "    }\n",
       "\n",
       "    .dataframe thead th {\n",
       "        text-align: right;\n",
       "    }\n",
       "</style>\n",
       "<table border=\"1\" class=\"dataframe\">\n",
       "  <thead>\n",
       "    <tr style=\"text-align: right;\">\n",
       "      <th></th>\n",
       "      <th>id</th>\n",
       "      <th>Jenis_Kelamin</th>\n",
       "      <th>Umur</th>\n",
       "      <th>SIM</th>\n",
       "      <th>Kode_Daerah</th>\n",
       "      <th>Sudah_Asuransi</th>\n",
       "      <th>Umur_Kendaraan</th>\n",
       "      <th>Kendaraan_Rusak</th>\n",
       "      <th>Premi</th>\n",
       "      <th>Kanal_Penjualan</th>\n",
       "      <th>Lama_Berlangganan</th>\n",
       "      <th>Tertarik</th>\n",
       "    </tr>\n",
       "  </thead>\n",
       "  <tbody>\n",
       "    <tr>\n",
       "      <th>0</th>\n",
       "      <td>1</td>\n",
       "      <td>1</td>\n",
       "      <td>30.0</td>\n",
       "      <td>1.0</td>\n",
       "      <td>33.0</td>\n",
       "      <td>1.0</td>\n",
       "      <td>1</td>\n",
       "      <td>1</td>\n",
       "      <td>28029.0</td>\n",
       "      <td>152.0</td>\n",
       "      <td>97.0</td>\n",
       "      <td>0</td>\n",
       "    </tr>\n",
       "    <tr>\n",
       "      <th>1</th>\n",
       "      <td>2</td>\n",
       "      <td>0</td>\n",
       "      <td>48.0</td>\n",
       "      <td>1.0</td>\n",
       "      <td>39.0</td>\n",
       "      <td>0.0</td>\n",
       "      <td>2</td>\n",
       "      <td>0</td>\n",
       "      <td>25800.0</td>\n",
       "      <td>29.0</td>\n",
       "      <td>158.0</td>\n",
       "      <td>0</td>\n",
       "    </tr>\n",
       "    <tr>\n",
       "      <th>3</th>\n",
       "      <td>4</td>\n",
       "      <td>1</td>\n",
       "      <td>58.0</td>\n",
       "      <td>1.0</td>\n",
       "      <td>48.0</td>\n",
       "      <td>0.0</td>\n",
       "      <td>0</td>\n",
       "      <td>1</td>\n",
       "      <td>2630.0</td>\n",
       "      <td>124.0</td>\n",
       "      <td>63.0</td>\n",
       "      <td>0</td>\n",
       "    </tr>\n",
       "    <tr>\n",
       "      <th>5</th>\n",
       "      <td>6</td>\n",
       "      <td>0</td>\n",
       "      <td>21.0</td>\n",
       "      <td>1.0</td>\n",
       "      <td>35.0</td>\n",
       "      <td>1.0</td>\n",
       "      <td>1</td>\n",
       "      <td>1</td>\n",
       "      <td>22735.0</td>\n",
       "      <td>152.0</td>\n",
       "      <td>171.0</td>\n",
       "      <td>0</td>\n",
       "    </tr>\n",
       "    <tr>\n",
       "      <th>8</th>\n",
       "      <td>9</td>\n",
       "      <td>1</td>\n",
       "      <td>20.0</td>\n",
       "      <td>1.0</td>\n",
       "      <td>8.0</td>\n",
       "      <td>1.0</td>\n",
       "      <td>1</td>\n",
       "      <td>1</td>\n",
       "      <td>30786.0</td>\n",
       "      <td>160.0</td>\n",
       "      <td>31.0</td>\n",
       "      <td>0</td>\n",
       "    </tr>\n",
       "  </tbody>\n",
       "</table>\n",
       "</div>"
      ],
      "text/plain": [
       "   id  Jenis_Kelamin  Umur  SIM  Kode_Daerah  Sudah_Asuransi  Umur_Kendaraan  \\\n",
       "0   1              1  30.0  1.0         33.0             1.0               1   \n",
       "1   2              0  48.0  1.0         39.0             0.0               2   \n",
       "3   4              1  58.0  1.0         48.0             0.0               0   \n",
       "5   6              0  21.0  1.0         35.0             1.0               1   \n",
       "8   9              1  20.0  1.0          8.0             1.0               1   \n",
       "\n",
       "   Kendaraan_Rusak    Premi  Kanal_Penjualan  Lama_Berlangganan  Tertarik  \n",
       "0                1  28029.0            152.0               97.0         0  \n",
       "1                0  25800.0             29.0              158.0         0  \n",
       "3                1   2630.0            124.0               63.0         0  \n",
       "5                1  22735.0            152.0              171.0         0  \n",
       "8                1  30786.0            160.0               31.0         0  "
      ]
     },
     "execution_count": 8,
     "metadata": {},
     "output_type": "execute_result"
    }
   ],
   "source": [
    "dataset.head()"
   ]
  },
  {
   "cell_type": "code",
   "execution_count": 9,
   "metadata": {},
   "outputs": [
    {
     "data": {
      "text/plain": [
       "id                     int64\n",
       "Jenis_Kelamin          int64\n",
       "Umur                 float64\n",
       "SIM                  float64\n",
       "Kode_Daerah          float64\n",
       "Sudah_Asuransi       float64\n",
       "Umur_Kendaraan         int64\n",
       "Kendaraan_Rusak        int64\n",
       "Premi                float64\n",
       "Kanal_Penjualan      float64\n",
       "Lama_Berlangganan    float64\n",
       "Tertarik               int64\n",
       "dtype: object"
      ]
     },
     "execution_count": 9,
     "metadata": {},
     "output_type": "execute_result"
    }
   ],
   "source": [
    "dataset.dtypes"
   ]
  },
  {
   "cell_type": "markdown",
   "metadata": {},
   "source": [
    "Kolom id tidak digunakan, maka akan di-drop"
   ]
  },
  {
   "cell_type": "code",
   "execution_count": 10,
   "metadata": {},
   "outputs": [],
   "source": [
    "dataset = dataset.drop(['id'], axis=1)"
   ]
  },
  {
   "cell_type": "code",
   "execution_count": 11,
   "metadata": {},
   "outputs": [
    {
     "data": {
      "text/html": [
       "<div>\n",
       "<style scoped>\n",
       "    .dataframe tbody tr th:only-of-type {\n",
       "        vertical-align: middle;\n",
       "    }\n",
       "\n",
       "    .dataframe tbody tr th {\n",
       "        vertical-align: top;\n",
       "    }\n",
       "\n",
       "    .dataframe thead th {\n",
       "        text-align: right;\n",
       "    }\n",
       "</style>\n",
       "<table border=\"1\" class=\"dataframe\">\n",
       "  <thead>\n",
       "    <tr style=\"text-align: right;\">\n",
       "      <th></th>\n",
       "      <th>Jenis_Kelamin</th>\n",
       "      <th>Umur</th>\n",
       "      <th>SIM</th>\n",
       "      <th>Kode_Daerah</th>\n",
       "      <th>Sudah_Asuransi</th>\n",
       "      <th>Umur_Kendaraan</th>\n",
       "      <th>Kendaraan_Rusak</th>\n",
       "      <th>Premi</th>\n",
       "      <th>Kanal_Penjualan</th>\n",
       "      <th>Lama_Berlangganan</th>\n",
       "      <th>Tertarik</th>\n",
       "    </tr>\n",
       "  </thead>\n",
       "  <tbody>\n",
       "    <tr>\n",
       "      <th>0</th>\n",
       "      <td>1</td>\n",
       "      <td>30.0</td>\n",
       "      <td>1.0</td>\n",
       "      <td>33.0</td>\n",
       "      <td>1.0</td>\n",
       "      <td>1</td>\n",
       "      <td>1</td>\n",
       "      <td>28029.0</td>\n",
       "      <td>152.0</td>\n",
       "      <td>97.0</td>\n",
       "      <td>0</td>\n",
       "    </tr>\n",
       "    <tr>\n",
       "      <th>1</th>\n",
       "      <td>0</td>\n",
       "      <td>48.0</td>\n",
       "      <td>1.0</td>\n",
       "      <td>39.0</td>\n",
       "      <td>0.0</td>\n",
       "      <td>2</td>\n",
       "      <td>0</td>\n",
       "      <td>25800.0</td>\n",
       "      <td>29.0</td>\n",
       "      <td>158.0</td>\n",
       "      <td>0</td>\n",
       "    </tr>\n",
       "    <tr>\n",
       "      <th>3</th>\n",
       "      <td>1</td>\n",
       "      <td>58.0</td>\n",
       "      <td>1.0</td>\n",
       "      <td>48.0</td>\n",
       "      <td>0.0</td>\n",
       "      <td>0</td>\n",
       "      <td>1</td>\n",
       "      <td>2630.0</td>\n",
       "      <td>124.0</td>\n",
       "      <td>63.0</td>\n",
       "      <td>0</td>\n",
       "    </tr>\n",
       "    <tr>\n",
       "      <th>5</th>\n",
       "      <td>0</td>\n",
       "      <td>21.0</td>\n",
       "      <td>1.0</td>\n",
       "      <td>35.0</td>\n",
       "      <td>1.0</td>\n",
       "      <td>1</td>\n",
       "      <td>1</td>\n",
       "      <td>22735.0</td>\n",
       "      <td>152.0</td>\n",
       "      <td>171.0</td>\n",
       "      <td>0</td>\n",
       "    </tr>\n",
       "    <tr>\n",
       "      <th>8</th>\n",
       "      <td>1</td>\n",
       "      <td>20.0</td>\n",
       "      <td>1.0</td>\n",
       "      <td>8.0</td>\n",
       "      <td>1.0</td>\n",
       "      <td>1</td>\n",
       "      <td>1</td>\n",
       "      <td>30786.0</td>\n",
       "      <td>160.0</td>\n",
       "      <td>31.0</td>\n",
       "      <td>0</td>\n",
       "    </tr>\n",
       "  </tbody>\n",
       "</table>\n",
       "</div>"
      ],
      "text/plain": [
       "   Jenis_Kelamin  Umur  SIM  Kode_Daerah  Sudah_Asuransi  Umur_Kendaraan  \\\n",
       "0              1  30.0  1.0         33.0             1.0               1   \n",
       "1              0  48.0  1.0         39.0             0.0               2   \n",
       "3              1  58.0  1.0         48.0             0.0               0   \n",
       "5              0  21.0  1.0         35.0             1.0               1   \n",
       "8              1  20.0  1.0          8.0             1.0               1   \n",
       "\n",
       "   Kendaraan_Rusak    Premi  Kanal_Penjualan  Lama_Berlangganan  Tertarik  \n",
       "0                1  28029.0            152.0               97.0         0  \n",
       "1                0  25800.0             29.0              158.0         0  \n",
       "3                1   2630.0            124.0               63.0         0  \n",
       "5                1  22735.0            152.0              171.0         0  \n",
       "8                1  30786.0            160.0               31.0         0  "
      ]
     },
     "execution_count": 11,
     "metadata": {},
     "output_type": "execute_result"
    }
   ],
   "source": [
    "dataset.head()"
   ]
  },
  {
   "cell_type": "markdown",
   "metadata": {},
   "source": [
    "Dataset tersebut memiliki fitur lebih dari 2, maka dari itu, dataset dirubah ke bentuk PCA atau Principal component analysis.\n",
    "\n",
    "PCA adalah sebuah metode untuk mengurangi dimensi pada data dengan menggunakan Singular Value Decomposition (SVD)"
   ]
  },
  {
   "cell_type": "code",
   "execution_count": 12,
   "metadata": {},
   "outputs": [],
   "source": [
    "pca = PCA(n_components=2)\n",
    "dataset_pca = pca.fit_transform(dataset.drop(['Tertarik'], axis=1))"
   ]
  },
  {
   "cell_type": "markdown",
   "metadata": {},
   "source": [
    "Setelah dataset dirubah, maka akan terlihat seperti array di bawah (2 Dimensi)"
   ]
  },
  {
   "cell_type": "code",
   "execution_count": 13,
   "metadata": {},
   "outputs": [
    {
     "data": {
      "text/plain": [
       "array([[-2.47776147e+03, -5.72376644e+01],\n",
       "       [-4.70671699e+03,  3.63637212e+00],\n",
       "       [-2.78767482e+04, -9.14421772e+01],\n",
       "       ...,\n",
       "       [ 1.92442358e+04,  7.18943512e+01],\n",
       "       [-3.75029075e+00,  1.15761727e+02],\n",
       "       [ 5.97328402e+03, -1.10289210e+02]])"
      ]
     },
     "execution_count": 13,
     "metadata": {},
     "output_type": "execute_result"
    }
   ],
   "source": [
    "dataset_pca"
   ]
  },
  {
   "cell_type": "markdown",
   "metadata": {},
   "source": [
    "<h3>Visual dataset PCA</h3>"
   ]
  },
  {
   "cell_type": "code",
   "execution_count": 14,
   "metadata": {},
   "outputs": [
    {
     "data": {
      "image/png": "[encoded data removed]",
      "text/plain": [
       "<Figure size 432x288 with 1 Axes>"
      ]
     },
     "metadata": {
      "needs_background": "light"
     },
     "output_type": "display_data"
    }
   ],
   "source": [
    "plt.scatter(dataset_pca[:,0],dataset_pca[:,1])\n",
    "plt.show()"
   ]
  },
  {
   "cell_type": "markdown",
   "metadata": {},
   "source": [
    "<h3>Fungsi-fungsi yang digunakan untuk K-nn</h3>"
   ]
  },
  {
   "cell_type": "code",
   "execution_count": 15,
   "metadata": {},
   "outputs": [],
   "source": [
    "#Fungsi menghtiung jarak menggunakan metode Euclidean Distance\n",
    "def euclidianDistance(a,b):\n",
    "    hasil = 0\n",
    "    for i in range(len(a)):\n",
    "        hasil = hasil + math.pow(a[i]-b[i],2)\n",
    "    return math.sqrt(hasil)\n",
    "\n",
    "#fungsi mencari rata-rata jarak antara data ke centroid, kemudian mengembalikan centroid baru\n",
    "def meanCentroid(c):\n",
    "    new_centroid = []\n",
    "    for i in range(len(c[0])):\n",
    "        res = 0\n",
    "        for j in range(len(c)):\n",
    "            res = res + c[j][i]\n",
    "        res = res/len(c)\n",
    "        new_centroid.append(res)\n",
    "    return new_centroid\n",
    "\n",
    "#Fungsi menginisiasi data kosong pada setiap centroid\n",
    "def initiateCentroidData():\n",
    "    c_arr = []\n",
    "    for i in range(len(centroid)):\n",
    "        c_arr.append([])\n",
    "    return c_arr\n",
    "\n",
    "#Fungsi menghitung akurasi\n",
    "def calculateAcc2d(y_pred, y_val):\n",
    "    y_pred = np.array(y_pred)\n",
    "    y_val = np.array(y_val)\n",
    "    res = 0\n",
    "    if len(y_pred) == len(y_val):\n",
    "        for i in range(len(y_pred)):\n",
    "            if y_pred[i] == y_val[i]:\n",
    "                res = res+1\n",
    "        res = res/len(y_pred)\n",
    "    return res"
   ]
  },
  {
   "cell_type": "markdown",
   "metadata": {},
   "source": [
    "Inisiasi jumlah cluster, di sini k=2 karena ingin memprediksi pelanggan tertarik atau tidak"
   ]
  },
  {
   "cell_type": "code",
   "execution_count": 16,
   "metadata": {},
   "outputs": [],
   "source": [
    "k = 2"
   ]
  },
  {
   "cell_type": "markdown",
   "metadata": {},
   "source": [
    "Menginisiasi centroid awal dengan memilih data secara random pada dataset"
   ]
  },
  {
   "cell_type": "code",
   "execution_count": 17,
   "metadata": {},
   "outputs": [],
   "source": [
    "centroid = random.sample(list(dataset_pca), k)\n",
    "centroid = np.array(centroid)"
   ]
  },
  {
   "cell_type": "markdown",
   "metadata": {},
   "source": [
    "Melakukan perulangan untuk menjalankan algoritma K-nn"
   ]
  },
  {
   "cell_type": "code",
   "execution_count": 18,
   "metadata": {},
   "outputs": [],
   "source": [
    "#perulangan sampai centroid sebelumnya dan centroid sekarang tidak berubah\n",
    "while True:\n",
    "    #inisiasi data terdekat (kosong) untuk setiap centroid\n",
    "    c_arr = initiateCentroidData()\n",
    "    \n",
    "    #perulangan untuk setiap data pada dataset\n",
    "    for i in range(len(dataset_pca)):\n",
    "        \n",
    "        #inisiasi index untuk jarak minimum\n",
    "        idx_min = 0\n",
    "        \n",
    "        #menghitung jarak dari data i ke centroid 0\n",
    "        min_dis = euclidianDistance(dataset_pca[i],centroid[idx_min])\n",
    "        \n",
    "        #perulangan untuk menghitung jarak data i ke centroid selain 0\n",
    "        for j in range(1,len(centroid)):\n",
    "            \n",
    "            #mengitung jarak dari data i ke centroid j\n",
    "            temp_min = euclidianDistance(dataset_pca[i],centroid[j])\n",
    "            \n",
    "            #memeriksa centroid manakah yang paling minimum jaraknya terhadap data i\n",
    "            if min_dis > temp_min:\n",
    "                idx_min = j\n",
    "                min_dis = temp_min\n",
    "        \n",
    "        #memasukkan data i ke array centroid dengan jarak terdekat\n",
    "        c_arr[idx_min].append(dataset_pca[i])\n",
    "    \n",
    "    #centroid lama disalin\n",
    "    old_centroid = centroid.copy()\n",
    "    \n",
    "    #mencari centroid baru\n",
    "    for i in range(len(centroid)):\n",
    "        centroid[i] = meanCentroid(c_arr[i])\n",
    "        \n",
    "    #memeriksa apakah centroid lama sama dengan centroid baru, jika iya maka perulangan terhenti\n",
    "    if (old_centroid==centroid).all():\n",
    "        break"
   ]
  },
  {
   "cell_type": "markdown",
   "metadata": {},
   "source": [
    "Hasil centroid dari algoritma K-nn setelah dilatih pada data latih (kendaraan_train.csv)"
   ]
  },
  {
   "cell_type": "code",
   "execution_count": 19,
   "metadata": {},
   "outputs": [
    {
     "data": {
      "text/plain": [
       "array([[ 6.12910270e+03,  9.08832943e-02],\n",
       "       [-2.63913942e+04, -3.91335725e-01]])"
      ]
     },
     "execution_count": 19,
     "metadata": {},
     "output_type": "execute_result"
    }
   ],
   "source": [
    "centroid"
   ]
  },
  {
   "cell_type": "markdown",
   "metadata": {},
   "source": [
    "<h3> Visualisasi hasil clustering terhadap dataset </h3>"
   ]
  },
  {
   "cell_type": "code",
   "execution_count": 20,
   "metadata": {},
   "outputs": [
    {
     "data": {
      "image/png": "[encoded data removed]",
      "text/plain": [
       "<Figure size 432x288 with 1 Axes>"
      ]
     },
     "metadata": {
      "needs_background": "light"
     },
     "output_type": "display_data"
    }
   ],
   "source": [
    "if len(c_arr[0][0]) == 2:\n",
    "    for i in c_arr:\n",
    "        plt.scatter([row[0] for row in i],[row[1] for row in i])\n",
    "    for i in centroid:\n",
    "        plt.scatter(i[0],i[1],c='black')\n",
    "    plt.show()\n",
    "if len(c_arr[0][0]) == 3:\n",
    "    ax = plt.axes(projection=\"3d\")\n",
    "    for i in c_arr:\n",
    "        ax.scatter3D([row[0] for row in i],[row[1] for row in i],[row[2] for row in i])\n",
    "    for i in centroid:\n",
    "        ax.scatter3D(i[0],i[1],i[2],c='black')\n",
    "    plt.show()"
   ]
  },
  {
   "cell_type": "markdown",
   "metadata": {},
   "source": [
    "<h3> Menyimpan hasil clustering data latih</h3>"
   ]
  },
  {
   "cell_type": "code",
   "execution_count": 21,
   "metadata": {},
   "outputs": [
    {
     "name": "stdout",
     "output_type": "stream",
     "text": [
      "result saved in clustering_result.csv\n"
     ]
    }
   ],
   "source": [
    "try:\n",
    "    with open('clustering_result.csv','wb') as file:\n",
    "        #write column\n",
    "#         str_write = 'x,y,'\n",
    "#         file.write(str_write.encode())\n",
    "        file.write('label'.encode())\n",
    "        file.write('\\n'.encode())\n",
    "        #write data\n",
    "        for i in range(len(c_arr)):\n",
    "            for j in c_arr[i]:\n",
    "#                 str_write = ''\n",
    "#                 for k in j:\n",
    "#                     str_write = str_write+str(k)+','\n",
    "#                 file.write(str_write.encode())\n",
    "                file.write(str(i).encode()) \n",
    "                file.write('\\n'.encode())\n",
    "    print('result saved in clustering_result.csv')\n",
    "except:\n",
    "    print('Result cant be saved!')"
   ]
  },
  {
   "cell_type": "markdown",
   "metadata": {},
   "source": [
    "<h3>Menghitung akurasi hasil prediksi data latih</h3>\n",
    "\n",
    "Ambil label pada dataset"
   ]
  },
  {
   "cell_type": "code",
   "execution_count": 22,
   "metadata": {},
   "outputs": [],
   "source": [
    "y_val = dataset['Tertarik']"
   ]
  },
  {
   "cell_type": "markdown",
   "metadata": {},
   "source": [
    "Ambil label prediksi dari hasil clustering"
   ]
  },
  {
   "cell_type": "code",
   "execution_count": 23,
   "metadata": {},
   "outputs": [],
   "source": [
    "y_pred = pd.read_csv('clustering_result.csv')\n",
    "y_pred = y_pred['label']"
   ]
  },
  {
   "cell_type": "markdown",
   "metadata": {},
   "source": [
    "Menghitung akurasinya"
   ]
  },
  {
   "cell_type": "code",
   "execution_count": 24,
   "metadata": {},
   "outputs": [
    {
     "name": "stdout",
     "output_type": "stream",
     "text": [
      "Akurasi data latih:  0.7360640213248533\n"
     ]
    }
   ],
   "source": [
    "acc = calculateAcc2d(y_val,y_pred)\n",
    "print('Akurasi data latih: ',acc)"
   ]
  },
  {
   "cell_type": "markdown",
   "metadata": {},
   "source": [
    "<h3> Menerapkan centroid yang sudah dilatih pada data test </h3>\n",
    "\n",
    "Input data test"
   ]
  },
  {
   "cell_type": "code",
   "execution_count": 25,
   "metadata": {},
   "outputs": [],
   "source": [
    "data_test = pd.read_csv('kendaraan_test.csv')"
   ]
  },
  {
   "cell_type": "markdown",
   "metadata": {},
   "source": [
    "Periksa data test apakah terdapat data NaN/Null/Kosong pada setiap rownya"
   ]
  },
  {
   "cell_type": "code",
   "execution_count": 26,
   "metadata": {},
   "outputs": [
    {
     "data": {
      "text/plain": [
       "False"
      ]
     },
     "execution_count": 26,
     "metadata": {},
     "output_type": "execute_result"
    }
   ],
   "source": [
    "data_test.isnull().values.any()"
   ]
  },
  {
   "cell_type": "code",
   "execution_count": 27,
   "metadata": {},
   "outputs": [
    {
     "data": {
      "text/html": [
       "<div>\n",
       "<style scoped>\n",
       "    .dataframe tbody tr th:only-of-type {\n",
       "        vertical-align: middle;\n",
       "    }\n",
       "\n",
       "    .dataframe tbody tr th {\n",
       "        vertical-align: top;\n",
       "    }\n",
       "\n",
       "    .dataframe thead th {\n",
       "        text-align: right;\n",
       "    }\n",
       "</style>\n",
       "<table border=\"1\" class=\"dataframe\">\n",
       "  <thead>\n",
       "    <tr style=\"text-align: right;\">\n",
       "      <th></th>\n",
       "      <th>Jenis_Kelamin</th>\n",
       "      <th>Umur</th>\n",
       "      <th>SIM</th>\n",
       "      <th>Kode_Daerah</th>\n",
       "      <th>Sudah_Asuransi</th>\n",
       "      <th>Umur_Kendaraan</th>\n",
       "      <th>Kendaraan_Rusak</th>\n",
       "      <th>Premi</th>\n",
       "      <th>Kanal_Penjualan</th>\n",
       "      <th>Lama_Berlangganan</th>\n",
       "      <th>Tertarik</th>\n",
       "    </tr>\n",
       "  </thead>\n",
       "  <tbody>\n",
       "    <tr>\n",
       "      <th>0</th>\n",
       "      <td>Wanita</td>\n",
       "      <td>49</td>\n",
       "      <td>1</td>\n",
       "      <td>8</td>\n",
       "      <td>0</td>\n",
       "      <td>1-2 Tahun</td>\n",
       "      <td>Pernah</td>\n",
       "      <td>46963</td>\n",
       "      <td>26</td>\n",
       "      <td>145</td>\n",
       "      <td>0</td>\n",
       "    </tr>\n",
       "    <tr>\n",
       "      <th>1</th>\n",
       "      <td>Pria</td>\n",
       "      <td>22</td>\n",
       "      <td>1</td>\n",
       "      <td>47</td>\n",
       "      <td>1</td>\n",
       "      <td>&lt; 1 Tahun</td>\n",
       "      <td>Tidak</td>\n",
       "      <td>39624</td>\n",
       "      <td>152</td>\n",
       "      <td>241</td>\n",
       "      <td>0</td>\n",
       "    </tr>\n",
       "    <tr>\n",
       "      <th>2</th>\n",
       "      <td>Pria</td>\n",
       "      <td>24</td>\n",
       "      <td>1</td>\n",
       "      <td>28</td>\n",
       "      <td>1</td>\n",
       "      <td>&lt; 1 Tahun</td>\n",
       "      <td>Tidak</td>\n",
       "      <td>110479</td>\n",
       "      <td>152</td>\n",
       "      <td>62</td>\n",
       "      <td>0</td>\n",
       "    </tr>\n",
       "    <tr>\n",
       "      <th>3</th>\n",
       "      <td>Pria</td>\n",
       "      <td>46</td>\n",
       "      <td>1</td>\n",
       "      <td>8</td>\n",
       "      <td>1</td>\n",
       "      <td>1-2 Tahun</td>\n",
       "      <td>Tidak</td>\n",
       "      <td>36266</td>\n",
       "      <td>124</td>\n",
       "      <td>34</td>\n",
       "      <td>0</td>\n",
       "    </tr>\n",
       "    <tr>\n",
       "      <th>4</th>\n",
       "      <td>Pria</td>\n",
       "      <td>35</td>\n",
       "      <td>1</td>\n",
       "      <td>23</td>\n",
       "      <td>0</td>\n",
       "      <td>1-2 Tahun</td>\n",
       "      <td>Pernah</td>\n",
       "      <td>26963</td>\n",
       "      <td>152</td>\n",
       "      <td>229</td>\n",
       "      <td>0</td>\n",
       "    </tr>\n",
       "  </tbody>\n",
       "</table>\n",
       "</div>"
      ],
      "text/plain": [
       "  Jenis_Kelamin  Umur  SIM  Kode_Daerah  Sudah_Asuransi Umur_Kendaraan  \\\n",
       "0        Wanita    49    1            8               0      1-2 Tahun   \n",
       "1          Pria    22    1           47               1      < 1 Tahun   \n",
       "2          Pria    24    1           28               1      < 1 Tahun   \n",
       "3          Pria    46    1            8               1      1-2 Tahun   \n",
       "4          Pria    35    1           23               0      1-2 Tahun   \n",
       "\n",
       "  Kendaraan_Rusak   Premi  Kanal_Penjualan  Lama_Berlangganan  Tertarik  \n",
       "0          Pernah   46963               26                145         0  \n",
       "1           Tidak   39624              152                241         0  \n",
       "2           Tidak  110479              152                 62         0  \n",
       "3           Tidak   36266              124                 34         0  \n",
       "4          Pernah   26963              152                229         0  "
      ]
     },
     "execution_count": 27,
     "metadata": {},
     "output_type": "execute_result"
    }
   ],
   "source": [
    "data_test.head()"
   ]
  },
  {
   "cell_type": "code",
   "execution_count": 28,
   "metadata": {},
   "outputs": [
    {
     "data": {
      "text/plain": [
       "Jenis_Kelamin        object\n",
       "Umur                  int64\n",
       "SIM                   int64\n",
       "Kode_Daerah           int64\n",
       "Sudah_Asuransi        int64\n",
       "Umur_Kendaraan       object\n",
       "Kendaraan_Rusak      object\n",
       "Premi                 int64\n",
       "Kanal_Penjualan       int64\n",
       "Lama_Berlangganan     int64\n",
       "Tertarik              int64\n",
       "dtype: object"
      ]
     },
     "execution_count": 28,
     "metadata": {},
     "output_type": "execute_result"
    }
   ],
   "source": [
    "data_test.dtypes"
   ]
  },
  {
   "cell_type": "markdown",
   "metadata": {},
   "source": [
    "Karena tipe data Jenis_Kelamin, Umur_Kendaraan, dan Kendaraan_Rusak bertipe kategorikal, maka kolom-kolom tersebut dirubah ke tipe numerikal hal ini dilakukan agar setiap rownya bisa dihitung jaraknya terhadap centroid seperti yang ada pada algoritma k-nn\n",
    "\n",
    "Merubah tipe data ini menggunakan fungsi LabelEncoder yang ada pada library sklearn"
   ]
  },
  {
   "cell_type": "code",
   "execution_count": 29,
   "metadata": {},
   "outputs": [],
   "source": [
    "data_test['Jenis_Kelamin'] = LabelEncoder().fit_transform(data_test['Jenis_Kelamin'])\n",
    "data_test['Umur_Kendaraan'] = LabelEncoder().fit_transform(data_test['Umur_Kendaraan'])\n",
    "data_test['Kendaraan_Rusak'] = LabelEncoder().fit_transform(data_test['Kendaraan_Rusak'])\n"
   ]
  },
  {
   "cell_type": "markdown",
   "metadata": {},
   "source": [
    "Dataset tersebut memiliki fitur lebih dari 2, maka dari itu, dataset dirubah ke bentuk PCA atau Principal component analysis.\n",
    "\n",
    "PCA adalah sebuah metode untuk mengurangi dimensi pada data dengan menggunakan Singular Value Decomposition (SVD)"
   ]
  },
  {
   "cell_type": "code",
   "execution_count": 30,
   "metadata": {},
   "outputs": [],
   "source": [
    "data_test_pca = pca.fit_transform(data_test.drop(['Tertarik'], axis=1))"
   ]
  },
  {
   "cell_type": "code",
   "execution_count": 31,
   "metadata": {},
   "outputs": [
    {
     "data": {
      "text/plain": [
       "array([[ 1.63365521e+04, -8.86774363e+00],\n",
       "       [ 8.99749881e+03,  8.67398272e+01],\n",
       "       [ 7.98524986e+04, -9.02465144e+01],\n",
       "       ...,\n",
       "       [ 2.47450042e+03,  5.65752208e+01],\n",
       "       [ 7.16155076e+03,  8.48477398e+01],\n",
       "       [-2.79964831e+04,  1.47422180e+01]])"
      ]
     },
     "execution_count": 31,
     "metadata": {},
     "output_type": "execute_result"
    }
   ],
   "source": [
    "data_test_pca"
   ]
  },
  {
   "cell_type": "markdown",
   "metadata": {},
   "source": [
    "<h3>Visual data test PCA</h3>"
   ]
  },
  {
   "cell_type": "code",
   "execution_count": 32,
   "metadata": {},
   "outputs": [
    {
     "data": {
      "image/png": "[encoded data removed]",
      "text/plain": [
       "<Figure size 432x288 with 1 Axes>"
      ]
     },
     "metadata": {
      "needs_background": "light"
     },
     "output_type": "display_data"
    }
   ],
   "source": [
    "plt.scatter(data_test_pca[:,0],data_test_pca[:,1])\n",
    "plt.show()"
   ]
  },
  {
   "cell_type": "markdown",
   "metadata": {},
   "source": [
    "Mengcluster data test dengan menghitung jarak setiap data terhadarp centroid yang sebelumnya sudah didapatkan"
   ]
  },
  {
   "cell_type": "code",
   "execution_count": 33,
   "metadata": {},
   "outputs": [],
   "source": [
    "c_arr_test = initiateCentroidData()\n",
    "for i in range(len(data_test_pca)):\n",
    "    \n",
    "\n",
    "    #inisiasi index untuk jarak minimum\n",
    "    idx_min = 0\n",
    "\n",
    "    #menghitung jarak dari data i ke centroid 0\n",
    "    min_dis = euclidianDistance(data_test_pca[i],centroid[idx_min])\n",
    "\n",
    "    #perulangan untuk menghitung jarak data i ke centroid selain 0\n",
    "    for j in range(1,len(centroid)):\n",
    "\n",
    "        #mengitung jarak dari data i ke centroid j\n",
    "        temp_min = euclidianDistance(data_test_pca[i],centroid[j])\n",
    "\n",
    "        #memeriksa centroid manakah yang paling minimum jaraknya terhadap data i\n",
    "        if min_dis > temp_min:\n",
    "            idx_min = j\n",
    "            min_dis = temp_min\n",
    "    #memasukkan data i ke array centroid dengan jarak terdekat\n",
    "    c_arr_test[idx_min].append(data_test_pca[i])"
   ]
  },
  {
   "cell_type": "markdown",
   "metadata": {},
   "source": [
    "<h3>Visualisasi cluster data test</h3>"
   ]
  },
  {
   "cell_type": "code",
   "execution_count": 34,
   "metadata": {},
   "outputs": [
    {
     "data": {
      "image/png": "[encoded data removed]",
      "text/plain": [
       "<Figure size 432x288 with 1 Axes>"
      ]
     },
     "metadata": {
      "needs_background": "light"
     },
     "output_type": "display_data"
    }
   ],
   "source": [
    "for i in c_arr_test:\n",
    "    plt.scatter([row[0] for row in i],[row[1] for row in i])\n",
    "for i in centroid:\n",
    "    plt.scatter(i[0],i[1],c='black')\n",
    "plt.show()"
   ]
  },
  {
   "cell_type": "markdown",
   "metadata": {},
   "source": [
    "Menyimpan hasil cluster data test"
   ]
  },
  {
   "cell_type": "code",
   "execution_count": 35,
   "metadata": {},
   "outputs": [
    {
     "name": "stdout",
     "output_type": "stream",
     "text": [
      "result saved in clustering_result_test.csv\n"
     ]
    }
   ],
   "source": [
    "try:\n",
    "    with open('clustering_result_test.csv','wb') as file:\n",
    "        #write column\n",
    "#         str_write = 'x,y,'\n",
    "#         file.write(str_write.encode())\n",
    "        file.write('label'.encode())\n",
    "        file.write('\\n'.encode())\n",
    "        #write data\n",
    "        for i in range(len(c_arr)):\n",
    "            for j in c_arr_test[i]:\n",
    "#                 str_write = ''\n",
    "#                 for k in j:\n",
    "#                     str_write = str_write+str(k)+','\n",
    "#                 file.write(str_write.encode())\n",
    "                file.write(str(i).encode()) \n",
    "                file.write('\\n'.encode())\n",
    "    print('result saved in clustering_result_test.csv')\n",
    "except:\n",
    "    print('Result cant be saved!')"
   ]
  },
  {
   "cell_type": "markdown",
   "metadata": {},
   "source": [
    "<h3>Menghitung akurasi hasil prediksi data test</h3>\n",
    "\n",
    "Ambil label pada dataset dan label pada hasil prediksi"
   ]
  },
  {
   "cell_type": "code",
   "execution_count": 36,
   "metadata": {},
   "outputs": [],
   "source": [
    "y_val_test = data_test['Tertarik']\n",
    "y_pred_test = pd.read_csv('clustering_result_test.csv')\n",
    "y_pred_test = y_pred_test['label']"
   ]
  },
  {
   "cell_type": "markdown",
   "metadata": {},
   "source": [
    "Menghitung akurasinya"
   ]
  },
  {
   "cell_type": "code",
   "execution_count": 37,
   "metadata": {},
   "outputs": [
    {
     "name": "stdout",
     "output_type": "stream",
     "text": [
      "Akurasi:  0.7364554251768509\n"
     ]
    }
   ],
   "source": [
    "acc = calculateAcc2d(y_val_test,y_pred_test)\n",
    "print('Akurasi: ',acc)"
   ]
  }
 ],
 "metadata": {
  "kernelspec": {
   "display_name": "Python 3",
   "language": "python",
   "name": "python3"
  },
  "language_info": {
   "codemirror_mode": {
    "name": "ipython",
    "version": 3
   },
   "file_extension": ".py",
   "mimetype": "text/x-python",
   "name": "python",
   "nbconvert_exporter": "python",
   "pygments_lexer": "ipython3",
   "version": "3.7.5"
  }
 },
 "nbformat": 4,
 "nbformat_minor": 2
}
